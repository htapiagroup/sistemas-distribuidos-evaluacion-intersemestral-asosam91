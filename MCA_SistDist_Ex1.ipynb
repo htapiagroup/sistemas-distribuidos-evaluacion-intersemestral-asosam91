{
  "nbformat": 4,
  "nbformat_minor": 0,
  "metadata": {
    "colab": {
      "name": "MCA_SistDist_Ex1.ipynb",
      "version": "0.3.2",
      "provenance": [],
      "collapsed_sections": [],
      "toc_visible": true,
      "include_colab_link": true
    },
    "kernelspec": {
      "name": "python3",
      "display_name": "Python 3"
    }
  },
  "cells": [
    {
      "cell_type": "markdown",
      "metadata": {
        "id": "view-in-github",
        "colab_type": "text"
      },
      "source": [
        "<a href=\"https://colab.research.google.com/github/htapiagroup/sistemas-distribuidos-evaluacion-intersemestral-asosam91/blob/master/MCA_SistDist_Ex1.ipynb\" target=\"_parent\"><img src=\"https://colab.research.google.com/assets/colab-badge.svg\" alt=\"Open In Colab\"/></a>"
      ]
    },
    {
      "cell_type": "markdown",
      "metadata": {
        "id": "2ARMWPhsSbzB",
        "colab_type": "text"
      },
      "source": [
        "# Adrián Sosa Medellín\n",
        "## MCA 2018-2020"
      ]
    },
    {
      "cell_type": "markdown",
      "metadata": {
        "id": "DHGVIoS6Y8-g",
        "colab_type": "text"
      },
      "source": [
        "### Configuracion inicial"
      ]
    },
    {
      "cell_type": "code",
      "metadata": {
        "id": "fyKg8UyMQP-w",
        "colab_type": "code",
        "colab": {}
      },
      "source": [
        "import os, time, psutil\n",
        "import pandas as pd \n",
        "import matplotlib as plt\n",
        "import dask as dk \n",
        "import dask.dataframe as dd\n",
        "from google.colab import drive"
      ],
      "execution_count": 0,
      "outputs": []
    },
    {
      "cell_type": "code",
      "metadata": {
        "id": "eeVSseLJWYDJ",
        "colab_type": "code",
        "colab": {
          "base_uri": "https://localhost:8080/",
          "height": 54
        },
        "outputId": "d60f30ad-72b7-4d75-8574-5d6968f6fc3c"
      },
      "source": [
        "drive.mount('/content/gdrive')"
      ],
      "execution_count": 2,
      "outputs": [
        {
          "output_type": "stream",
          "text": [
            "Drive already mounted at /content/gdrive; to attempt to forcibly remount, call drive.mount(\"/content/gdrive\", force_remount=True).\n"
          ],
          "name": "stdout"
        }
      ]
    },
    {
      "cell_type": "code",
      "metadata": {
        "id": "F0Pg1JjGWv8n",
        "colab_type": "code",
        "colab": {
          "base_uri": "https://localhost:8080/",
          "height": 34
        },
        "outputId": "b81ee62a-fa21-4bed-e5f4-513661f8f4f5"
      },
      "source": [
        "cd gdrive/My\\ Drive/Colab\\ Notebooks/Data\n"
      ],
      "execution_count": 3,
      "outputs": [
        {
          "output_type": "stream",
          "text": [
            "/content/gdrive/My Drive/Colab Notebooks/Data\n"
          ],
          "name": "stdout"
        }
      ]
    },
    {
      "cell_type": "markdown",
      "metadata": {
        "id": "WaKkEkDGs3NY",
        "colab_type": "text"
      },
      "source": [
        "### definicion de funciones"
      ]
    },
    {
      "cell_type": "code",
      "metadata": {
        "id": "IKkyePW_s9Pn",
        "colab_type": "code",
        "colab": {}
      },
      "source": [
        "# esta funcion fue proporcionada por el Dr. Horacio Tapia\n",
        "def memoryPrint():\n",
        "  '''Regresa al memoria usada por un proceso en python'''\n",
        "  mem = psutil.Process(os.getpid()).memory_info().rss\n",
        "  return (mem/1024**2)"
      ],
      "execution_count": 0,
      "outputs": []
    },
    {
      "cell_type": "markdown",
      "metadata": {
        "id": "yz_QVJkJZDD-",
        "colab_type": "text"
      },
      "source": [
        "### descarga y descompresion de la 'Base de datos'"
      ]
    },
    {
      "cell_type": "code",
      "metadata": {
        "id": "tg2mEWkdWv3H",
        "colab_type": "code",
        "colab": {}
      },
      "source": [
        "if not os.path.exists('trip_data.7z'):\n",
        "  !wget https://archive.org/download/nycTaxiTripData2013/trip_data.7z && !7z x trip_data.7z"
      ],
      "execution_count": 0,
      "outputs": []
    },
    {
      "cell_type": "markdown",
      "metadata": {
        "id": "sZ1eppzre-tj",
        "colab_type": "text"
      },
      "source": [
        "### Parte 3, preguntas 1 y 2\n",
        "\n",
        "Responder las siguientes preguntas:\n",
        "> Cuantas columnas contiene cada archivo de datos descomprimido\n",
        "> Cuantos renglones tiene cada archivo\n"
      ]
    },
    {
      "cell_type": "code",
      "metadata": {
        "id": "DlG0zxkhdDYk",
        "colab_type": "code",
        "colab": {}
      },
      "source": [
        "ti = time.time()\n",
        "m1 =  memoryPrint()\n",
        "df = pd.read_csv('trip_data_1.csv')\n",
        "m2 =  memoryPrint()\n",
        "tf = time.time()"
      ],
      "execution_count": 0,
      "outputs": []
    },
    {
      "cell_type": "code",
      "metadata": {
        "id": "UT_pPPcbTwB6",
        "colab_type": "code",
        "colab": {}
      },
      "source": [
        "dimensiones = df.shape"
      ],
      "execution_count": 0,
      "outputs": []
    },
    {
      "cell_type": "code",
      "metadata": {
        "id": "OV2fNaZ3UYM7",
        "colab_type": "code",
        "colab": {
          "base_uri": "https://localhost:8080/",
          "height": 34
        },
        "outputId": "f2fefafa-d242-4664-f24f-24621ccc7762"
      },
      "source": [
        "print(\"El archivo contine {} columnas y {} renglones\". format(dimensiones[1], dimensiones[0]))"
      ],
      "execution_count": 8,
      "outputs": [
        {
          "output_type": "stream",
          "text": [
            "El archivo contine 14 columnas y 14776615 renglones\n"
          ],
          "name": "stdout"
        }
      ]
    },
    {
      "cell_type": "markdown",
      "metadata": {
        "id": "qqRbwVEImJaF",
        "colab_type": "text"
      },
      "source": [
        "### parte 4 preguntas 1 y 2\n",
        "Identificar si existen renglones con errores en los datos, por ejemplo si hay columnas de mas (o de menos), si hay campos vacios, etc. Si se detectan renglones con errores:\n",
        "> indicar claramente cuantos son los renglones con errores y a que archivos corresponden\n",
        "\n",
        "> crear un nuevo conjunto de datos con los errores eliminados"
      ]
    },
    {
      "cell_type": "code",
      "metadata": {
        "id": "n5kjQ28FXlJc",
        "colab_type": "code",
        "colab": {
          "base_uri": "https://localhost:8080/",
          "height": 272
        },
        "outputId": "4677322b-1d40-4760-93c4-580c6ec406f3"
      },
      "source": [
        "df.isna().sum()"
      ],
      "execution_count": 9,
      "outputs": [
        {
          "output_type": "execute_result",
          "data": {
            "text/plain": [
              "medallion                   0\n",
              "hack_license                0\n",
              "vendor_id                   0\n",
              "rate_code                   0\n",
              "store_and_fwd_flag    7326207\n",
              "pickup_datetime             0\n",
              "dropoff_datetime            0\n",
              "passenger_count             0\n",
              "trip_time_in_secs           0\n",
              "trip_distance               0\n",
              "pickup_longitude            0\n",
              "pickup_latitude             0\n",
              "dropoff_longitude          86\n",
              "dropoff_latitude           86\n",
              "dtype: int64"
            ]
          },
          "metadata": {
            "tags": []
          },
          "execution_count": 9
        }
      ]
    },
    {
      "cell_type": "markdown",
      "metadata": {
        "id": "iIo3cLgz0c1q",
        "colab_type": "text"
      },
      "source": [
        "Existen 86 registros vacios en las columnas *dropoff_longitude* y *dropoff_latitude*.\n",
        "\n",
        "en la columna *store_and_fwd_flag* hay 7326207 registros vacios\n"
      ]
    },
    {
      "cell_type": "code",
      "metadata": {
        "id": "e6znxMF3eYhH",
        "colab_type": "code",
        "colab": {
          "base_uri": "https://localhost:8080/",
          "height": 34
        },
        "outputId": "49d643d9-4fe6-4a67-ffa8-a431eca321ad"
      },
      "source": [
        "# aqui se borran los campos vacios \n",
        "df = df.dropna()\n",
        "df.shape"
      ],
      "execution_count": 10,
      "outputs": [
        {
          "output_type": "execute_result",
          "data": {
            "text/plain": [
              "(7450408, 14)"
            ]
          },
          "metadata": {
            "tags": []
          },
          "execution_count": 10
        }
      ]
    },
    {
      "cell_type": "markdown",
      "metadata": {
        "id": "PXaj7-DpBFVT",
        "colab_type": "text"
      },
      "source": [
        "se genra un nuevo dataframe de 14 columnas y 7450408 registros.\n",
        "\n",
        "se verifica que no haya mas registros vacios."
      ]
    },
    {
      "cell_type": "code",
      "metadata": {
        "id": "NrbEUzBC7Y0k",
        "colab_type": "code",
        "colab": {
          "base_uri": "https://localhost:8080/",
          "height": 272
        },
        "outputId": "2ed46c71-0cc5-4343-8936-a4cce32c9e22"
      },
      "source": [
        "df.isna().sum()"
      ],
      "execution_count": 11,
      "outputs": [
        {
          "output_type": "execute_result",
          "data": {
            "text/plain": [
              "medallion             0\n",
              "hack_license          0\n",
              "vendor_id             0\n",
              "rate_code             0\n",
              "store_and_fwd_flag    0\n",
              "pickup_datetime       0\n",
              "dropoff_datetime      0\n",
              "passenger_count       0\n",
              "trip_time_in_secs     0\n",
              "trip_distance         0\n",
              "pickup_longitude      0\n",
              "pickup_latitude       0\n",
              "dropoff_longitude     0\n",
              "dropoff_latitude      0\n",
              "dtype: int64"
            ]
          },
          "metadata": {
            "tags": []
          },
          "execution_count": 11
        }
      ]
    },
    {
      "cell_type": "markdown",
      "metadata": {
        "id": "QJJVDBP9rq5i",
        "colab_type": "text"
      },
      "source": [
        "### parte 5\n",
        "Crear un DataFrame usando la libreria pandas y responder lo siguiente:\n",
        "> Indicar el tiempo en segundos, que tarda la libreria pandas en leer un archivo a un DataFrame\n",
        "\n",
        "> Cual es la huella de memoria del proceso usado para generar el objeto DataFrame\n",
        "\n",
        "> Cuanta memoria del sistema se usa para crear el objeto anterior\n",
        "\n",
        "> Indicar el tiempo que tarda pandas en obtener el promedio de la distancia de viaje (trip_distance)"
      ]
    },
    {
      "cell_type": "code",
      "metadata": {
        "id": "W8gsCGDLp7TF",
        "colab_type": "code",
        "colab": {
          "base_uri": "https://localhost:8080/",
          "height": 34
        },
        "outputId": "3351c417-8733-4766-a44f-66e716367987"
      },
      "source": [
        "print (\"tiempo de lectura con pandas: {:.02f} s \".format((((tf-ti)*1000)/60)/60))"
      ],
      "execution_count": 12,
      "outputs": [
        {
          "output_type": "stream",
          "text": [
            "tiempo de lectura con pandas: 20.64 s \n"
          ],
          "name": "stdout"
        }
      ]
    },
    {
      "cell_type": "code",
      "metadata": {
        "id": "qyoqMUfbp_Es",
        "colab_type": "code",
        "colab": {
          "base_uri": "https://localhost:8080/",
          "height": 34
        },
        "outputId": "78d52f27-ee32-4cad-fac7-47a8fe0c841e"
      },
      "source": [
        "print(\"la huella de memoria utilizada por pandas al leer el archivo es de: {}\".format(m2-m1))"
      ],
      "execution_count": 13,
      "outputs": [
        {
          "output_type": "stream",
          "text": [
            "la huella de memoria utilizada por pandas al leer el archivo es de: 4286.5625\n"
          ],
          "name": "stdout"
        }
      ]
    },
    {
      "cell_type": "code",
      "metadata": {
        "id": "oi6JFiVgDIIJ",
        "colab_type": "code",
        "colab": {}
      },
      "source": [
        "print(\"la huella de memoria utilizada por pandas al leer el archivo es de: {}\".format(m2-m1))"
      ],
      "execution_count": 0,
      "outputs": []
    },
    {
      "cell_type": "code",
      "metadata": {
        "id": "ugHMKDWMsB9C",
        "colab_type": "code",
        "colab": {}
      },
      "source": [
        "ti = time.time()\n",
        "\n",
        "\n",
        "tf = time.time()\n",
        "print (\"tiempo de calculo de promedio con pandas: {:.02f} s \".format((((tf-ti)*1000)/60)/60))"
      ],
      "execution_count": 0,
      "outputs": []
    }
  ]
}