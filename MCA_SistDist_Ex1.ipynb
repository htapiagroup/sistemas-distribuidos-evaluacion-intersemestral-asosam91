{
  "nbformat": 4,
  "nbformat_minor": 0,
  "metadata": {
    "colab": {
      "name": "MCA_SistDist_Ex1.ipynb",
      "version": "0.3.2",
      "provenance": [],
      "collapsed_sections": [],
      "include_colab_link": true
    },
    "kernelspec": {
      "name": "python3",
      "display_name": "Python 3"
    },
    "accelerator": "GPU"
  },
  "cells": [
    {
      "cell_type": "markdown",
      "metadata": {
        "id": "view-in-github",
        "colab_type": "text"
      },
      "source": [
        "<a href=\"https://colab.research.google.com/github/htapiagroup/sistemas-distribuidos-evaluacion-intersemestral-asosam91/blob/master/MCA_SistDist_Ex1.ipynb\" target=\"_parent\"><img src=\"https://colab.research.google.com/assets/colab-badge.svg\" alt=\"Open In Colab\"/></a>"
      ]
    },
    {
      "cell_type": "markdown",
      "metadata": {
        "id": "2ARMWPhsSbzB",
        "colab_type": "text"
      },
      "source": [
        "# Adrián Sosa Medellín\n",
        "## MCA 2018-2020"
      ]
    },
    {
      "cell_type": "markdown",
      "metadata": {
        "id": "DHGVIoS6Y8-g",
        "colab_type": "text"
      },
      "source": [
        "### Configuracion inicial"
      ]
    },
    {
      "cell_type": "code",
      "metadata": {
        "id": "fyKg8UyMQP-w",
        "colab_type": "code",
        "colab": {}
      },
      "source": [
        "import os, time, psutil, gc\n",
        "import pandas as pd \n"
      ],
      "execution_count": 0,
      "outputs": []
    },
    {
      "cell_type": "code",
      "metadata": {
        "id": "5_4MDqU9ZJSR",
        "colab_type": "code",
        "colab": {
          "base_uri": "https://localhost:8080/",
          "height": 34
        },
        "outputId": "a1f9dd26-9bd8-4228-f589-e1789d0b6cdb"
      },
      "source": [
        "gc.enable()\n",
        "# Ejecuta esta celda para activar Google Drive.\n",
        "from google.colab import drive\n",
        "drive.mount('/content/drive')\n"
      ],
      "execution_count": 12,
      "outputs": [
        {
          "output_type": "stream",
          "text": [
            "Drive already mounted at /content/drive; to attempt to forcibly remount, call drive.mount(\"/content/drive\", force_remount=True).\n"
          ],
          "name": "stdout"
        }
      ]
    },
    {
      "cell_type": "code",
      "metadata": {
        "id": "wiCFG7K2lH72",
        "colab_type": "code",
        "outputId": "7fa64c5d-989b-4714-fb9e-90998ae79b0d",
        "colab": {
          "base_uri": "https://localhost:8080/",
          "height": 34
        }
      },
      "source": [
        "cd /content/drive/\"My Drive\"/\"Colab Notebooks\"/Data"
      ],
      "execution_count": 13,
      "outputs": [
        {
          "output_type": "stream",
          "text": [
            "/content/drive/My Drive/Colab Notebooks/Data\n"
          ],
          "name": "stdout"
        }
      ]
    },
    {
      "cell_type": "markdown",
      "metadata": {
        "id": "WaKkEkDGs3NY",
        "colab_type": "text"
      },
      "source": [
        "### definicion de funciones"
      ]
    },
    {
      "cell_type": "code",
      "metadata": {
        "id": "IKkyePW_s9Pn",
        "colab_type": "code",
        "colab": {}
      },
      "source": [
        "# esta funcion fue proporcionada por el Dr. Horacio Tapia\n",
        "def memoryPrint():\n",
        "  '''Regresa al memoria usada por un proceso en python'''\n",
        "  mem = psutil.Process(os.getpid()).memory_info().rss\n",
        "  return (mem/1024**2)"
      ],
      "execution_count": 0,
      "outputs": []
    },
    {
      "cell_type": "code",
      "metadata": {
        "id": "wBb1eg8TsZzY",
        "colab_type": "code",
        "colab": {}
      },
      "source": [
        "class data():\n",
        "  def __init__(self):\n",
        "    self.name = \"\"\n",
        "    self.rows = 0\n",
        "    self.cols = 0\n",
        "    self.readtime = 0\n",
        "    self.memoryprint = 0 \n",
        "    self.memory = 0\n",
        "    self.empyreg = 0\n",
        "    self.newcols = 0\n",
        "    self.newrows = 0\n",
        "    self.timemean = 0"
      ],
      "execution_count": 0,
      "outputs": []
    },
    {
      "cell_type": "markdown",
      "metadata": {
        "id": "yz_QVJkJZDD-",
        "colab_type": "text"
      },
      "source": [
        "### descarga y descompresion de la 'Base de datos'"
      ]
    },
    {
      "cell_type": "code",
      "metadata": {
        "id": "1r474Mop2Jjx",
        "colab_type": "code",
        "colab": {}
      },
      "source": [
        "nombre = 'trip_data_{:d}.csv'\n",
        "plantilla = [nombre.format(i) for i in range(1, 13)]"
      ],
      "execution_count": 0,
      "outputs": []
    },
    {
      "cell_type": "code",
      "metadata": {
        "id": "tg2mEWkdWv3H",
        "colab_type": "code",
        "colab": {}
      },
      "source": [
        "# if not os.path.exists('trip_data.7z'):\n",
        "#   comando = \"wget https://archive.org/download/nycTaxiTripData2013/trip_data.7z\"\n",
        "#   os.system(comando)\n",
        "\n",
        "# !7z x trip_data.7z"
      ],
      "execution_count": 0,
      "outputs": []
    },
    {
      "cell_type": "markdown",
      "metadata": {
        "id": "gDWUHMmuv2TS",
        "colab_type": "text"
      },
      "source": [
        "## PANDAS"
      ]
    },
    {
      "cell_type": "markdown",
      "metadata": {
        "id": "l2aorHXStm_o",
        "colab_type": "text"
      },
      "source": [
        "\n",
        "\n",
        "Se responden las siguientes preguntas:\n",
        "\n",
        " - Cuantas columnas contiene cada archivo de datos descomprimido.\n",
        " \n",
        " -  Cuantos renglones tiene cada archivo.\n",
        " \n",
        "- Identificar si existen renglones con errores en los datos, por ejemplo si hay columnas de mas (o de menos), si hay campos vacios, etc. Si se detectan renglones con errores:\n",
        "\n",
        "\n",
        "\n",
        "> -  indicar claramente cuantos son los renglones con errores y a que archivos corresponden.\n",
        "\n",
        "> - crear un nuevo conjunto de datos con los errores eliminados.\n",
        "\n",
        "* Crear un DataFrame usando la libreria pandas y responder lo siguiente:\n",
        "\n",
        "> - Indicar el tiempo en segundos, que tarda la libreria pandas en leer un archivo a un  DataFrame.\n",
        "\n",
        "> - Cual es la huella de memoria del proceso usado para generar el objeto DataFrame.\n",
        "\n",
        "> - Cuanta memoria del sistema se usa para crear el objeto anterior.\n",
        "\n",
        "> - Indicar el tiempo que tarda pandas en obtener el promedio de la distancia de viaje (trip_distance)."
      ]
    },
    {
      "cell_type": "code",
      "metadata": {
        "id": "2eG3FTSe3ryz",
        "colab_type": "code",
        "colab": {}
      },
      "source": [
        "resultados = []\n",
        "# no ejecutar esta instruccion a menos que sea necesario\n",
        "# for i in plantilla:\n",
        "#   comando = \"rm new_\"+ i\n",
        "#   os.system(comando)"
      ],
      "execution_count": 0,
      "outputs": []
    },
    {
      "cell_type": "code",
      "metadata": {
        "id": "C0_e_2Xc37c1",
        "colab_type": "code",
        "colab": {}
      },
      "source": [
        "for archivo in plantilla:\n",
        "  nombre = archivo +\"_new\"\n",
        "  if not os.path.exists(nombre):\n",
        "    dat = data()\n",
        "    m1 = memoryPrint()\n",
        "    t1 = time.time()\n",
        "    try:\n",
        "      df = pd.read_csv(archivo, usecols=[\"medallion\",  \"pickup_datetime\", \"dropoff_datetime\", \"passenger_count\", \"trip_time_in_secs\", \"trip_distance\", \"pickup_longitude\", \"pickup_latitude\", \"dropoff_longitude\", \"dropoff_latitude\"])\n",
        "    except :\n",
        "      pass\n",
        "    try:\n",
        "      df = pd.read_csv(archivo, usecols=[\"medallion\",  \" pickup_datetime\", \" dropoff_datetime\", \" passenger_count\", \" trip_time_in_secs\", \" trip_distance\", \" pickup_longitude\", \" pickup_latitude\", \" dropoff_longitude\", \" dropoff_latitude\"])\n",
        "    except :\n",
        "      pass\n",
        "    t2 = time.time()\n",
        "    m2 = memoryPrint()\n",
        "    dat.name = archivo\n",
        "    dat.readtime = (t2 - t1)*1000\n",
        "    dat.memoryprint = m2 - m1\n",
        "    dat.memory = df.memory_usage().sum()\n",
        "    shapes = df.shape\n",
        "    dat.rows = shapes[0]\n",
        "    dat.cols = shapes[1]\n",
        "      \n",
        "    ## //// ---- Limpieza de datos ---- //// ##\n",
        "    df = df.rename(columns=lambda x: x.strip())\n",
        "    dat.empyreg = df.isna().sum()\n",
        "    df = df.dropna()\n",
        "    # la siguiente funcion es aportacion de Daniel Hdz.\n",
        "    df = df.drop(df[df.passenger_count > 9].index)\n",
        "    shapes = df.shape\n",
        "    dat.newrows = shapes[0]\n",
        "    dat.newcols = shapes[1]\n",
        "    \n",
        "    t1 = time.time()\n",
        "    mean = df[\"trip_distance\"].mean()\n",
        "    t2 = time.time()\n",
        "    dat.timemean = (t2 - t1)*1000\n",
        "    df.to_csv(nombre)\n",
        "    resultados.append(dat)\n",
        "    df = ''\n",
        "    dat = ''"
      ],
      "execution_count": 0,
      "outputs": []
    },
    {
      "cell_type": "code",
      "metadata": {
        "id": "DlG0zxkhdDYk",
        "colab_type": "code",
        "outputId": "2bd15f87-e964-4e4d-c72c-3bdea5dd679c",
        "colab": {
          "base_uri": "https://localhost:8080/",
          "height": 1000
        }
      },
      "source": [
        "# muestro el resultado de las operaciones\n",
        "print(\"Resultados de las operaciones con PANDAS\")\n",
        "\n",
        "for i in range(len(resultados)):\n",
        "  print(\"\\n\")\n",
        "  print(\"Archivo analizado: {}\".format(resultados[i].name))\n",
        "  print(\"El archivo tiene {} columnas y {} renglones\".format(resultados[i].cols, resultados[i].rows))\n",
        "  print(\"Numero de registros vacios:\\n{}\".format(resultados[i].empyreg))\n",
        "  print(\"--- se crea un nuevo conjunto de datos con los errores eliminados si los hay. ---\")\n",
        "  print(\"El nuevo conjunto de datos tiene {} columnas y {} renglones\".format(resultados[i].newcols, resultados[i].newrows))\n",
        "  print(\"Tiempo de lectura del archivo {}: {} ms\".format(resultados[i].name, resultados[i].readtime))\n",
        "  print(\"Huella de memoria del archivo: {:.2f} Mb\".format(resultados[i].memoryprint))\n",
        "  print(\"Memoria del sistema usada para crear el archivo: {:.2f} Mb\".format((resultados[i].memory)/(1024**2)))\n",
        "  print(\"Tiempo que tarda pandas en obtener el promedio de Trip_distance: {} ms\".format(resultados[i].timemean))\n",
        "  print(\"-----------------------------------------------------------------------------------------\")\n",
        "  "
      ],
      "execution_count": 0,
      "outputs": [
        {
          "output_type": "stream",
          "text": [
            "Resultados de las operaciones con PANDAS\n",
            "\n",
            "\n",
            "Archivo analizado: trip_data_1.csv\n",
            "El archivo tiene 10 columnas y 14776615 renglones\n",
            "Numero de registros vacios:\n",
            "medallion             0\n",
            "pickup_datetime       0\n",
            "dropoff_datetime      0\n",
            "passenger_count       0\n",
            "trip_time_in_secs     0\n",
            "trip_distance         0\n",
            "pickup_longitude      0\n",
            "pickup_latitude       0\n",
            "dropoff_longitude    86\n",
            "dropoff_latitude     86\n",
            "dtype: int64\n",
            "--- se crea un nuevo conjunto de datos con los errores eliminados si los hay. ---\n",
            "El nuevo conjunto de datos tiene 10 columnas y 14776527 renglones\n",
            "Tiempo de lectura del archivo trip_data_1.csv: 70025.25401115417 ms\n",
            "Huella de memoria del archivo: 3195.49 Mb\n",
            "Memoria del sistema usada para crear el archivo: 1127.37 Mb\n",
            "Tiempo que tarda pandas en obtener el promedio de Trip_distance: 26.94225311279297 ms\n",
            "-----------------------------------------------------------------------------------------\n",
            "\n",
            "\n",
            "Archivo analizado: trip_data_2.csv\n",
            "El archivo tiene 10 columnas y 13990176 renglones\n",
            "Numero de registros vacios:\n",
            "medallion              0\n",
            "pickup_datetime        0\n",
            "dropoff_datetime       0\n",
            "passenger_count        0\n",
            "trip_time_in_secs      0\n",
            "trip_distance          0\n",
            "pickup_longitude       0\n",
            "pickup_latitude        0\n",
            "dropoff_longitude    113\n",
            "dropoff_latitude     113\n",
            "dtype: int64\n",
            "--- se crea un nuevo conjunto de datos con los errores eliminados si los hay. ---\n",
            "El nuevo conjunto de datos tiene 10 columnas y 13990061 renglones\n",
            "Tiempo de lectura del archivo trip_data_2.csv: 76854.7625541687 ms\n",
            "Huella de memoria del archivo: -394.86 Mb\n",
            "Memoria del sistema usada para crear el archivo: 1067.37 Mb\n",
            "Tiempo que tarda pandas en obtener el promedio de Trip_distance: 25.4671573638916 ms\n",
            "-----------------------------------------------------------------------------------------\n",
            "\n",
            "\n",
            "Archivo analizado: trip_data_3.csv\n",
            "El archivo tiene 10 columnas y 15749228 renglones\n",
            "Numero de registros vacios:\n",
            "medallion              0\n",
            "pickup_datetime        0\n",
            "dropoff_datetime       0\n",
            "passenger_count        0\n",
            "trip_time_in_secs      0\n",
            "trip_distance          0\n",
            "pickup_longitude       0\n",
            "pickup_latitude        0\n",
            "dropoff_longitude    293\n",
            "dropoff_latitude     293\n",
            "dtype: int64\n",
            "--- se crea un nuevo conjunto de datos con los errores eliminados si los hay. ---\n",
            "El nuevo conjunto de datos tiene 10 columnas y 15748934 renglones\n",
            "Tiempo de lectura del archivo trip_data_3.csv: 84674.02386665344 ms\n",
            "Huella de memoria del archivo: 799.76 Mb\n",
            "Memoria del sistema usada para crear el archivo: 1201.57 Mb\n",
            "Tiempo que tarda pandas en obtener el promedio de Trip_distance: 29.79564666748047 ms\n",
            "-----------------------------------------------------------------------------------------\n",
            "\n",
            "\n",
            "Archivo analizado: trip_data_4.csv\n",
            "El archivo tiene 10 columnas y 15100468 renglones\n",
            "Numero de registros vacios:\n",
            "medallion              0\n",
            "pickup_datetime        0\n",
            "dropoff_datetime       0\n",
            "passenger_count        0\n",
            "trip_time_in_secs      0\n",
            "trip_distance          0\n",
            "pickup_longitude       0\n",
            "pickup_latitude        0\n",
            "dropoff_longitude    146\n",
            "dropoff_latitude     146\n",
            "dtype: int64\n",
            "--- se crea un nuevo conjunto de datos con los errores eliminados si los hay. ---\n",
            "El nuevo conjunto de datos tiene 10 columnas y 15100322 renglones\n",
            "Tiempo de lectura del archivo trip_data_4.csv: 86061.3763332367 ms\n",
            "Huella de memoria del archivo: 67.24 Mb\n",
            "Memoria del sistema usada para crear el archivo: 1152.07 Mb\n",
            "Tiempo que tarda pandas en obtener el promedio de Trip_distance: 27.246952056884766 ms\n",
            "-----------------------------------------------------------------------------------------\n",
            "\n",
            "\n",
            "Archivo analizado: trip_data_5.csv\n",
            "El archivo tiene 10 columnas y 15285049 renglones\n",
            "Numero de registros vacios:\n",
            "medallion             0\n",
            "pickup_datetime       0\n",
            "dropoff_datetime      0\n",
            "passenger_count       0\n",
            "trip_time_in_secs     0\n",
            "trip_distance         0\n",
            "pickup_longitude      0\n",
            "pickup_latitude       0\n",
            "dropoff_longitude    39\n",
            "dropoff_latitude     39\n",
            "dtype: int64\n",
            "--- se crea un nuevo conjunto de datos con los errores eliminados si los hay. ---\n",
            "El nuevo conjunto de datos tiene 10 columnas y 15285010 renglones\n",
            "Tiempo de lectura del archivo trip_data_5.csv: 81288.67959976196 ms\n",
            "Huella de memoria del archivo: -534.65 Mb\n",
            "Memoria del sistema usada para crear el archivo: 1166.16 Mb\n",
            "Tiempo que tarda pandas en obtener el promedio de Trip_distance: 27.5876522064209 ms\n",
            "-----------------------------------------------------------------------------------------\n",
            "\n",
            "\n",
            "Archivo analizado: trip_data_6.csv\n",
            "El archivo tiene 10 columnas y 14385456 renglones\n",
            "Numero de registros vacios:\n",
            "medallion              0\n",
            "pickup_datetime        0\n",
            "dropoff_datetime       0\n",
            "passenger_count        0\n",
            "trip_time_in_secs      0\n",
            "trip_distance          0\n",
            "pickup_longitude       0\n",
            "pickup_latitude        0\n",
            "dropoff_longitude    338\n",
            "dropoff_latitude     338\n",
            "dtype: int64\n",
            "--- se crea un nuevo conjunto de datos con los errores eliminados si los hay. ---\n",
            "El nuevo conjunto de datos tiene 10 columnas y 14385117 renglones\n",
            "Tiempo de lectura del archivo trip_data_6.csv: 100783.3149433136 ms\n",
            "Huella de memoria del archivo: -1003.84 Mb\n",
            "Memoria del sistema usada para crear el archivo: 1097.52 Mb\n",
            "Tiempo que tarda pandas en obtener el promedio de Trip_distance: 26.821136474609375 ms\n",
            "-----------------------------------------------------------------------------------------\n",
            "\n",
            "\n",
            "Archivo analizado: trip_data_7.csv\n",
            "El archivo tiene 10 columnas y 13823840 renglones\n",
            "Numero de registros vacios:\n",
            "medallion              0\n",
            "pickup_datetime        0\n",
            "dropoff_datetime       0\n",
            "passenger_count        0\n",
            "trip_time_in_secs      0\n",
            "trip_distance          0\n",
            "pickup_longitude       0\n",
            "pickup_latitude        0\n",
            "dropoff_longitude    698\n",
            "dropoff_latitude     698\n",
            "dtype: int64\n",
            "--- se crea un nuevo conjunto de datos con los errores eliminados si los hay. ---\n",
            "El nuevo conjunto de datos tiene 10 columnas y 13823142 renglones\n",
            "Tiempo de lectura del archivo trip_data_7.csv: 88228.196144104 ms\n",
            "Huella de memoria del archivo: -669.23 Mb\n",
            "Memoria del sistema usada para crear el archivo: 1054.68 Mb\n",
            "Tiempo que tarda pandas en obtener el promedio de Trip_distance: 25.745391845703125 ms\n",
            "-----------------------------------------------------------------------------------------\n",
            "\n",
            "\n",
            "Archivo analizado: trip_data_8.csv\n",
            "El archivo tiene 10 columnas y 12597109 renglones\n",
            "Numero de registros vacios:\n",
            "medallion             0\n",
            "pickup_datetime       0\n",
            "dropoff_datetime      0\n",
            "passenger_count       0\n",
            "trip_time_in_secs     0\n",
            "trip_distance         0\n",
            "pickup_longitude      0\n",
            "pickup_latitude       0\n",
            "dropoff_longitude    45\n",
            "dropoff_latitude     45\n",
            "dtype: int64\n",
            "--- se crea un nuevo conjunto de datos con los errores eliminados si los hay. ---\n",
            "El nuevo conjunto de datos tiene 10 columnas y 12597058 renglones\n",
            "Tiempo de lectura del archivo trip_data_8.csv: 68225.81934928894 ms\n",
            "Huella de memoria del archivo: 591.54 Mb\n",
            "Memoria del sistema usada para crear el archivo: 961.08 Mb\n",
            "Tiempo que tarda pandas en obtener el promedio de Trip_distance: 23.296117782592773 ms\n",
            "-----------------------------------------------------------------------------------------\n",
            "\n",
            "\n",
            "Archivo analizado: trip_data_9.csv\n",
            "El archivo tiene 10 columnas y 14107693 renglones\n",
            "Numero de registros vacios:\n",
            "medallion             0\n",
            "pickup_datetime       0\n",
            "dropoff_datetime      0\n",
            "passenger_count       0\n",
            "trip_time_in_secs     0\n",
            "trip_distance         0\n",
            "pickup_longitude      0\n",
            "pickup_latitude       0\n",
            "dropoff_longitude    78\n",
            "dropoff_latitude     78\n",
            "dtype: int64\n",
            "--- se crea un nuevo conjunto de datos con los errores eliminados si los hay. ---\n",
            "El nuevo conjunto de datos tiene 10 columnas y 14107613 renglones\n",
            "Tiempo de lectura del archivo trip_data_9.csv: 70404.46877479553 ms\n",
            "Huella de memoria del archivo: -493.18 Mb\n",
            "Memoria del sistema usada para crear el archivo: 1076.33 Mb\n",
            "Tiempo que tarda pandas en obtener el promedio de Trip_distance: 26.784420013427734 ms\n",
            "-----------------------------------------------------------------------------------------\n",
            "\n",
            "\n",
            "Archivo analizado: trip_data_10.csv\n",
            "El archivo tiene 10 columnas y 15004556 renglones\n",
            "Numero de registros vacios:\n",
            "medallion              0\n",
            "pickup_datetime        0\n",
            "dropoff_datetime       0\n",
            "passenger_count        0\n",
            "trip_time_in_secs      0\n",
            "trip_distance          0\n",
            "pickup_longitude       0\n",
            "pickup_latitude        0\n",
            "dropoff_longitude    736\n",
            "dropoff_latitude     736\n",
            "dtype: int64\n",
            "--- se crea un nuevo conjunto de datos con los errores eliminados si los hay. ---\n",
            "El nuevo conjunto de datos tiene 10 columnas y 15003820 renglones\n",
            "Tiempo de lectura del archivo trip_data_10.csv: 82589.98990058899 ms\n",
            "Huella de memoria del archivo: 209.96 Mb\n",
            "Memoria del sistema usada para crear el archivo: 1144.76 Mb\n",
            "Tiempo que tarda pandas en obtener el promedio de Trip_distance: 27.22001075744629 ms\n",
            "-----------------------------------------------------------------------------------------\n",
            "\n",
            "\n",
            "Archivo analizado: trip_data_11.csv\n",
            "El archivo tiene 10 columnas y 14388451 renglones\n",
            "Numero de registros vacios:\n",
            "medallion              0\n",
            "pickup_datetime        0\n",
            "dropoff_datetime       0\n",
            "passenger_count        0\n",
            "trip_time_in_secs      0\n",
            "trip_distance          0\n",
            "pickup_longitude       0\n",
            "pickup_latitude        0\n",
            "dropoff_longitude    754\n",
            "dropoff_latitude     754\n",
            "dtype: int64\n",
            "--- se crea un nuevo conjunto de datos con los errores eliminados si los hay. ---\n",
            "El nuevo conjunto de datos tiene 10 columnas y 14387695 renglones\n",
            "Tiempo de lectura del archivo trip_data_11.csv: 75140.2096748352 ms\n",
            "Huella de memoria del archivo: -64.43 Mb\n",
            "Memoria del sistema usada para crear el archivo: 1097.75 Mb\n",
            "Tiempo que tarda pandas en obtener el promedio de Trip_distance: 27.162551879882812 ms\n",
            "-----------------------------------------------------------------------------------------\n",
            "\n",
            "\n",
            "Archivo analizado: trip_data_12.csv\n",
            "El archivo tiene 10 columnas y 13971118 renglones\n",
            "Numero de registros vacios:\n",
            "medallion              0\n",
            "pickup_datetime        0\n",
            "dropoff_datetime       0\n",
            "passenger_count        0\n",
            "trip_time_in_secs      0\n",
            "trip_distance          0\n",
            "pickup_longitude       0\n",
            "pickup_latitude        0\n",
            "dropoff_longitude    112\n",
            "dropoff_latitude     112\n",
            "dtype: int64\n",
            "--- se crea un nuevo conjunto de datos con los errores eliminados si los hay. ---\n",
            "El nuevo conjunto de datos tiene 10 columnas y 13971006 renglones\n",
            "Tiempo de lectura del archivo trip_data_12.csv: 79828.41205596924 ms\n",
            "Huella de memoria del archivo: -552.32 Mb\n",
            "Memoria del sistema usada para crear el archivo: 1065.91 Mb\n",
            "Tiempo que tarda pandas en obtener el promedio de Trip_distance: 25.955915451049805 ms\n",
            "-----------------------------------------------------------------------------------------\n"
          ],
          "name": "stdout"
        }
      ]
    },
    {
      "cell_type": "markdown",
      "metadata": {
        "id": "8_DvHfdPerpF",
        "colab_type": "text"
      },
      "source": [
        "## DASK"
      ]
    },
    {
      "cell_type": "code",
      "metadata": {
        "id": "HN5pnhE2wlR8",
        "colab_type": "code",
        "colab": {}
      },
      "source": [
        "import dask\n",
        "import dask.dataframe as dd"
      ],
      "execution_count": 0,
      "outputs": []
    },
    {
      "cell_type": "markdown",
      "metadata": {
        "id": "1Ut80wtVxLif",
        "colab_type": "text"
      },
      "source": [
        "### Punto 6"
      ]
    },
    {
      "cell_type": "markdown",
      "metadata": {
        "id": "5Z9doQE3vk8F",
        "colab_type": "text"
      },
      "source": [
        "#### Indicar el tiempo que tarda en obtener el promedio de la distancia de viaje (trip_distance)\n"
      ]
    },
    {
      "cell_type": "code",
      "metadata": {
        "id": "FwJrYDxyws5z",
        "colab_type": "code",
        "colab": {}
      },
      "source": [
        "df = dd.read_csv(\"new_trip_data_*.csv\", usecols= [\"trip_distance\",\"trip_time_in_secs\"])"
      ],
      "execution_count": 0,
      "outputs": []
    },
    {
      "cell_type": "code",
      "metadata": {
        "id": "9RG7OlJl2lbs",
        "colab_type": "code",
        "colab": {}
      },
      "source": [
        "promedio = df[\"trip_distance\"].mean()"
      ],
      "execution_count": 0,
      "outputs": []
    },
    {
      "cell_type": "code",
      "metadata": {
        "id": "et_-9HCgxMck",
        "colab_type": "code",
        "outputId": "0449fab0-64a5-4fd7-a16f-16f19dd140e8",
        "colab": {
          "base_uri": "https://localhost:8080/",
          "height": 34
        }
      },
      "source": [
        "t1 = time.time()\n",
        "pDist = promedio.compute()\n",
        "t2 = time.time()\n",
        "\n",
        "print(\"El tiempo que tarda DASK en calcular el promedio de trip_distance es: {:.2f} ms\".format((t2 - t1)*1000))"
      ],
      "execution_count": 0,
      "outputs": [
        {
          "output_type": "stream",
          "text": [
            "El tiempo que tarda DASK en calcular el promedio de trip_distance es: 1001424.32 ms\n"
          ],
          "name": "stdout"
        }
      ]
    },
    {
      "cell_type": "markdown",
      "metadata": {
        "id": "j0ygT4DpwHdM",
        "colab_type": "text"
      },
      "source": [
        "#### Indicar el tiempo que tarda en obtener el promedio de la duracion de viaje (trip_time_in_secs)"
      ]
    },
    {
      "cell_type": "code",
      "metadata": {
        "id": "AiILcVWQ3bfc",
        "colab_type": "code",
        "colab": {}
      },
      "source": [
        "promedio = df[\"trip_time_in_secs\"].mean()"
      ],
      "execution_count": 0,
      "outputs": []
    },
    {
      "cell_type": "code",
      "metadata": {
        "id": "5noTXqEZ2v1m",
        "colab_type": "code",
        "outputId": "8cf75cfb-9512-4db4-f869-2581e1d1518a",
        "colab": {
          "base_uri": "https://localhost:8080/",
          "height": 34
        }
      },
      "source": [
        "t1 = time.time()\n",
        "pTime = promedio.compute()\n",
        "t2 = time.time()\n",
        "\n",
        "print(\"El tiempo que tarda DASK en calcular el promedio de trip_time_in_secs es: {:.2f} ms\".format((t2 - t1)*1000))"
      ],
      "execution_count": 0,
      "outputs": [
        {
          "output_type": "stream",
          "text": [
            "El tiempo que tarda DASK en calcular el promedio de trip_time_in_secs es: 1027340.30 ms\n"
          ],
          "name": "stdout"
        }
      ]
    },
    {
      "cell_type": "markdown",
      "metadata": {
        "id": "_qADd3z1wOe7",
        "colab_type": "text"
      },
      "source": [
        "####  calcular el tiempo de recorrido en segundos\n",
        "\n",
        "- Con las columnas pickup_datetime y dropoff_datetime como objetos temporales.\n",
        "- Crear una nueva columna en los dataframes que se llame duracion.\n",
        "- Compararla renglon a renglon con la columna trip_time_in_secs"
      ]
    },
    {
      "cell_type": "code",
      "metadata": {
        "id": "ghkwwFUX3wJX",
        "colab_type": "code",
        "colab": {}
      },
      "source": [
        "df = dd.read_csv(\"new_trip_data_*.csv\", usecols= [\"pickup_datetime\", \"dropoff_datetime\", \"trip_time_in_secs\"])"
      ],
      "execution_count": 0,
      "outputs": []
    },
    {
      "cell_type": "code",
      "metadata": {
        "id": "fd8F9DnM3v2W",
        "colab_type": "code",
        "colab": {}
      },
      "source": [
        "df[\"pickup_datetime\"] = dd.to_datetime(df[\"pickup_datetime\"])\n",
        "df[\"dropoff_datetime\"] = dd.to_datetime(df[\"dropoff_datetime\"])\n",
        "df[\"duracion\"] = df[\"dropoff_datetime\"] - df[\"pickup_datetime\"]\n",
        "df[\"duracion\"] = df[\"duracion\"].dt.total_seconds()"
      ],
      "execution_count": 0,
      "outputs": []
    },
    {
      "cell_type": "code",
      "metadata": {
        "id": "qR77M_TTND9j",
        "colab_type": "code",
        "colab": {}
      },
      "source": [
        "df[\"diferencia\"] = df[\"duracion\"] - df[\"trip_time_in_secs\"]"
      ],
      "execution_count": 0,
      "outputs": []
    },
    {
      "cell_type": "code",
      "metadata": {
        "id": "egLX1A3_3XS3",
        "colab_type": "code",
        "colab": {}
      },
      "source": [
        "dif = df[\"diferencia\"].value_counts()"
      ],
      "execution_count": 0,
      "outputs": []
    },
    {
      "cell_type": "code",
      "metadata": {
        "id": "D-z--LyZAbbS",
        "colab_type": "code",
        "colab": {
          "base_uri": "https://localhost:8080/",
          "height": 0
        },
        "outputId": "f54954b5-8043-4dbb-daf1-6532a16e9bd1"
      },
      "source": [
        "print(\"hay {} registros donde la duracion calculada y la registrada no coinciden.\".format(dif.compute()))"
      ],
      "execution_count": 24,
      "outputs": [
        {
          "output_type": "stream",
          "text": [
            "hay 173176305 registros donde la duracion calculada y la registrada no coinciden.\n"
          ],
          "name": "stdout"
        }
      ]
    },
    {
      "cell_type": "markdown",
      "metadata": {
        "id": "2CfRy103xFxK",
        "colab_type": "text"
      },
      "source": [
        "#### Definir un viaje_largo como aquellos en los que la duracion del viaje (trip_time_in_secs) sea mayor a 20 minutos."
      ]
    },
    {
      "cell_type": "code",
      "metadata": {
        "id": "stI3SaHcYXYd",
        "colab_type": "code",
        "outputId": "a2d05fce-b73e-49b0-e19d-d6d6df1f4d88",
        "colab": {
          "base_uri": "https://localhost:8080/",
          "height": 0
        }
      },
      "source": [
        "longTrip = df[(df[\"duracion\"] > 1200)]\n",
        "print(\"hay {} viajes largos en total.\".format(longTrip.shape[0]))"
      ],
      "execution_count": 25,
      "outputs": [
        {
          "output_type": "stream",
          "text": [
            "hay 26633265 viajes largos en total.\n"
          ],
          "name": "stdout"
        }
      ]
    },
    {
      "cell_type": "markdown",
      "metadata": {
        "id": "7S6T28TyxYO1",
        "colab_type": "text"
      },
      "source": [
        "### Punto 7"
      ]
    },
    {
      "cell_type": "markdown",
      "metadata": {
        "id": "Cs-DScMIPhtd",
        "colab_type": "text"
      },
      "source": [
        "#### Contar el numero de viajes largos en cada archivo."
      ]
    },
    {
      "cell_type": "code",
      "metadata": {
        "id": "bgIM3V6Heq9Y",
        "colab_type": "code",
        "colab": {}
      },
      "source": [
        "nombre = 'new_trip_data_{}.csv'\n",
        "files= [nombre.format(i) for i in range(1, 13)]"
      ],
      "execution_count": 0,
      "outputs": []
    },
    {
      "cell_type": "code",
      "metadata": {
        "id": "mHET7Z4wLFRo",
        "colab_type": "code",
        "colab": {
          "base_uri": "https://localhost:8080/",
          "height": 221
        },
        "outputId": "29282ebf-98c5-4647-c40c-fba2dae20f9a"
      },
      "source": [
        "for file in files:\n",
        "  df = dd.read_csv(file, usecols=[\"pickup_datetime\", \"dropoff_datetime\"])\n",
        "  df[\"pickup_datetime\"] = dd.to_datetime(df[\"pickup_datetime\"])\n",
        "  df[\"dropoff_datetime\"] = dd.to_datetime(df[\"dropoff_datetime\"])\n",
        "  df[\"duracion\"] = df[\"dropoff_datetime\"] - df[\"pickup_datetime\"]\n",
        "  df[\"duracion\"] = df[\"duracion\"].dt.total_seconds()\n",
        "  longTrip = df[(df[\"duracion\"] > 1200)]\n",
        "  print(\"El archivo {} tiene {} viajes largos\".format(file, longTrip.compute().shape[0]))"
      ],
      "execution_count": 31,
      "outputs": [
        {
          "output_type": "stream",
          "text": [
            "El archivo new_trip_data_1.csv tiene 1718917 viajes largos\n",
            "El archivo new_trip_data_2.csv tiene 1772181 viajes largos\n",
            "El archivo new_trip_data_3.csv tiene 2117687 viajes largos\n",
            "El archivo new_trip_data_4.csv tiene 2260489 viajes largos\n",
            "El archivo new_trip_data_5.csv tiene 2566543 viajes largos\n",
            "El archivo new_trip_data_6.csv tiene 2411108 viajes largos\n",
            "El archivo new_trip_data_7.csv tiene 2086905 viajes largos\n",
            "El archivo new_trip_data_8.csv tiene 1922569 viajes largos\n",
            "El archivo new_trip_data_9.csv tiene 2421306 viajes largos\n",
            "El archivo new_trip_data_10.csv tiene 2549062 viajes largos\n",
            "El archivo new_trip_data_11.csv tiene 2374577 viajes largos\n",
            "El archivo new_trip_data_12.csv tiene 2431921 viajes largos\n"
          ],
          "name": "stdout"
        }
      ]
    },
    {
      "cell_type": "markdown",
      "metadata": {
        "id": "XfW0SuP-tB9M",
        "colab_type": "text"
      },
      "source": [
        "### Punto 8"
      ]
    },
    {
      "cell_type": "markdown",
      "metadata": {
        "id": "CNVy8cosxmUS",
        "colab_type": "text"
      },
      "source": [
        "#### De los viajes largos.\n",
        "- identificar el numero de taxis diferentes (la columna medallion contiene un numeroque identificada a cada uno de los vehiculos).\n",
        "- Que vehiculos son los que mas viajes realizan en cada mes? \n",
        "- Son el mismo vehiculo?"
      ]
    },
    {
      "cell_type": "code",
      "metadata": {
        "id": "XPToGu7UgZQL",
        "colab_type": "code",
        "colab": {}
      },
      "source": [
        "nombre = 'new_trip_data_{}.csv'\n",
        "files= [nombre.format(i) for i in range(1, 13)]\n",
        "bestaxis = []"
      ],
      "execution_count": 0,
      "outputs": []
    },
    {
      "cell_type": "code",
      "metadata": {
        "id": "KKISe6WHgqUF",
        "colab_type": "code",
        "colab": {
          "base_uri": "https://localhost:8080/",
          "height": 1000
        },
        "outputId": "94306a5d-36a1-4a27-f951-8f8916eafe88"
      },
      "source": [
        "for file in files:\n",
        "  df = dd.read_csv(file, usecols=[\"medallion\", \"pickup_datetime\", \"dropoff_datetime\"])\n",
        "  df[\"pickup_datetime\"] = dd.to_datetime(df[\"pickup_datetime\"])\n",
        "  df[\"dropoff_datetime\"] = dd.to_datetime(df[\"dropoff_datetime\"])\n",
        "  df[\"duracion\"] = df[\"dropoff_datetime\"] - df[\"pickup_datetime\"]\n",
        "  df[\"duracion\"] = df[\"duracion\"].dt.total_seconds()\n",
        "  longTrip = df[(df[\"duracion\"] > 1200)]\n",
        "  # la siguiente funcion es aportacion de Daniel Hdz.\n",
        "  temp=df['medallion'].value_counts().compute()\n",
        "  taxs = temp.shape[0]\n",
        "  bestaxis.append(temp.index[0])\n",
        "  print(\"El archivo {} tiene {} taxis diferentes.\".format(file, taxs))\n",
        "  print(\"top 10 de taxis con viajes largos:\")\n",
        "  print(temp[:10])\n",
        "  print(\"\\nTaxi que mas viajes realizan cada mes: \\n {}\".format(temp.index[0]))\n",
        "  print(\"/// --------------------------------------------------------------------- ///\")\n",
        "\n",
        "for i in bestaxis:\n",
        "  print(i)\n",
        "  \n",
        "  "
      ],
      "execution_count": 69,
      "outputs": [
        {
          "output_type": "stream",
          "text": [
            "El archivo new_trip_data_1.csv tiene 13425 taxis diferentes.\n",
            "top 10 de taxis con viajes largos:\n",
            "7E1346F23960CC18D7D129FA28B63A75    2137\n",
            "6FFCF7A4F34BA44239636028E680E438    2112\n",
            "A979CDA04CFB8BA3D3ACBA7E8D7F0661    2039\n",
            "D5C7CD37EA4D372D00F0A681CDC93F11    1959\n",
            "849E486825860106403FB991A763BCC3    1957\n",
            "6FE6DFF9A59C0B64BE0CA64EE2699F08    1941\n",
            "06C961EBE7EF4D13F3AE6C005EE0F501    1893\n",
            "22908753E00888CC219C875C8D5BC4F6    1886\n",
            "E6101A0F85312C49A5B5950E61D284DC    1882\n",
            "6403BF98E4618E21C795C3B45A636D77    1882\n",
            "Name: medallion, dtype: int64\n",
            "\n",
            "Taxi que mas viajes realizan cada mes: \n",
            " 7E1346F23960CC18D7D129FA28B63A75\n",
            "/// --------------------------------------------------------------------- ///\n",
            "El archivo new_trip_data_2.csv tiene 13414 taxis diferentes.\n",
            "top 10 de taxis con viajes largos:\n",
            "0C9C589C0AD57ECCB633CB90A33DC37A    1953\n",
            "6FE6DFF9A59C0B64BE0CA64EE2699F08    1940\n",
            "DB51F659A90E9457DD2A2F4D5A2A3186    1936\n",
            "19E063791B0DF5A558B8488180DDAB67    1935\n",
            "02E517E0C958416296416C6F4CDABB33    1870\n",
            "8DEB70907D00AA1D7FF5E2683240549B    1850\n",
            "E90134322479C5C01D82226C11425CD0    1837\n",
            "863B16C717F37CE86D60435ACEEB0E2D    1836\n",
            "C7BF056F5E2EF6D4CCF68EA4A23502A7    1836\n",
            "B6585890F68EE02702F32DECDEABC2A8    1836\n",
            "Name: medallion, dtype: int64\n",
            "\n",
            "Taxi que mas viajes realizan cada mes: \n",
            " 0C9C589C0AD57ECCB633CB90A33DC37A\n",
            "/// --------------------------------------------------------------------- ///\n",
            "El archivo new_trip_data_3.csv tiene 13455 taxis diferentes.\n",
            "top 10 de taxis con viajes largos:\n",
            "19E063791B0DF5A558B8488180DDAB67    2204\n",
            "02E517E0C958416296416C6F4CDABB33    2056\n",
            "9F1FEF916240E64AD4EC5B7883E6A435    2042\n",
            "8DEB70907D00AA1D7FF5E2683240549B    2034\n",
            "0C9C589C0AD57ECCB633CB90A33DC37A    2027\n",
            "2F2F160D8428A7757500371F980468D5    2025\n",
            "6FE6DFF9A59C0B64BE0CA64EE2699F08    2020\n",
            "B6585890F68EE02702F32DECDEABC2A8    2011\n",
            "8253316266A5CA3EFF66163574D9A0B3    2006\n",
            "863B16C717F37CE86D60435ACEEB0E2D    2004\n",
            "Name: medallion, dtype: int64\n",
            "\n",
            "Taxi que mas viajes realizan cada mes: \n",
            " 19E063791B0DF5A558B8488180DDAB67\n",
            "/// --------------------------------------------------------------------- ///\n",
            "El archivo new_trip_data_4.csv tiene 13464 taxis diferentes.\n",
            "top 10 de taxis con viajes largos:\n",
            "19E063791B0DF5A558B8488180DDAB67    2098\n",
            "20BA941F62CC07F1FA3EF3E122B1E9B2    2035\n",
            "75EE5A7E8B24FD2B2FB715955834C524    1993\n",
            "0C9C589C0AD57ECCB633CB90A33DC37A    1988\n",
            "9F1FEF916240E64AD4EC5B7883E6A435    1962\n",
            "8253316266A5CA3EFF66163574D9A0B3    1938\n",
            "99B1FD019B175E0CC6E57BC9E4FAAC94    1936\n",
            "5BFFF6A2745737CEFE829A85167CA6C6    1934\n",
            "7B1635AADDB360C9C664FE3A900BEF22    1922\n",
            "863B16C717F37CE86D60435ACEEB0E2D    1911\n",
            "Name: medallion, dtype: int64\n",
            "\n",
            "Taxi que mas viajes realizan cada mes: \n",
            " 19E063791B0DF5A558B8488180DDAB67\n",
            "/// --------------------------------------------------------------------- ///\n",
            "El archivo new_trip_data_5.csv tiene 13476 taxis diferentes.\n",
            "top 10 de taxis con viajes largos:\n",
            "20BA941F62CC07F1FA3EF3E122B1E9B2    2190\n",
            "75EE5A7E8B24FD2B2FB715955834C524    2085\n",
            "F6D6BAD72F4E5BAE1E2BD2A366ADAAED    1984\n",
            "19E063791B0DF5A558B8488180DDAB67    1958\n",
            "A979CDA04CFB8BA3D3ACBA7E8D7F0661    1957\n",
            "21B98CAC5B31414B9446D381D38EEC7F    1955\n",
            "7417B824E9E41523D455BEAC98738B7D    1953\n",
            "6FE6DFF9A59C0B64BE0CA64EE2699F08    1947\n",
            "212405F2BE5E4D2F8193BAF2C541CB22    1932\n",
            "99B1FD019B175E0CC6E57BC9E4FAAC94    1917\n",
            "Name: medallion, dtype: int64\n",
            "\n",
            "Taxi que mas viajes realizan cada mes: \n",
            " 20BA941F62CC07F1FA3EF3E122B1E9B2\n",
            "/// --------------------------------------------------------------------- ///\n",
            "El archivo new_trip_data_6.csv tiene 13558 taxis diferentes.\n",
            "top 10 de taxis con viajes largos:\n",
            "A4FC84D2662D988828DBD26B0948A413    2119\n",
            "20BA941F62CC07F1FA3EF3E122B1E9B2    1974\n",
            "F6D6BAD72F4E5BAE1E2BD2A366ADAAED    1886\n",
            "75EE5A7E8B24FD2B2FB715955834C524    1883\n",
            "171FD91CBF0D6FABF499A9452A4950D5    1878\n",
            "2905ABD21DF99EA5B9741EA063266632    1852\n",
            "0D5598E85DBEE502394765588229FEAB    1834\n",
            "B3C461568CC515746F5C4622DD41456C    1816\n",
            "06C961EBE7EF4D13F3AE6C005EE0F501    1814\n",
            "7E1346F23960CC18D7D129FA28B63A75    1814\n",
            "Name: medallion, dtype: int64\n",
            "\n",
            "Taxi que mas viajes realizan cada mes: \n",
            " A4FC84D2662D988828DBD26B0948A413\n",
            "/// --------------------------------------------------------------------- ///\n",
            "El archivo new_trip_data_7.csv tiene 13434 taxis diferentes.\n",
            "top 10 de taxis con viajes largos:\n",
            "20BA941F62CC07F1FA3EF3E122B1E9B2    2085\n",
            "A4FC84D2662D988828DBD26B0948A413    2074\n",
            "DACFA6EF35923081481A22BE96339B6E    1950\n",
            "9F1FEF916240E64AD4EC5B7883E6A435    1938\n",
            "5466D714601371299033C01FB08BB93B    1921\n",
            "863B16C717F37CE86D60435ACEEB0E2D    1910\n",
            "D0948359DB8BA8EA397EB844E081C611    1889\n",
            "2905ABD21DF99EA5B9741EA063266632    1887\n",
            "06C961EBE7EF4D13F3AE6C005EE0F501    1853\n",
            "8CE240F0796D072D5DCFE06A364FB5A0    1853\n",
            "Name: medallion, dtype: int64\n",
            "\n",
            "Taxi que mas viajes realizan cada mes: \n",
            " 20BA941F62CC07F1FA3EF3E122B1E9B2\n",
            "/// --------------------------------------------------------------------- ///\n",
            "El archivo new_trip_data_8.csv tiene 13413 taxis diferentes.\n",
            "top 10 de taxis con viajes largos:\n",
            "20BA941F62CC07F1FA3EF3E122B1E9B2    1967\n",
            "5466D714601371299033C01FB08BB93B    1905\n",
            "19E063791B0DF5A558B8488180DDAB67    1777\n",
            "6403BF98E4618E21C795C3B45A636D77    1774\n",
            "06C961EBE7EF4D13F3AE6C005EE0F501    1741\n",
            "6DC8C4F44F98A3CC42714FC68B1535CC    1727\n",
            "C2A40A5B0F1B26BF17FD07F91CD6176C    1718\n",
            "0D5598E85DBEE502394765588229FEAB    1707\n",
            "863B16C717F37CE86D60435ACEEB0E2D    1690\n",
            "03BF54085C92C385889B957D804780D1    1680\n",
            "Name: medallion, dtype: int64\n",
            "\n",
            "Taxi que mas viajes realizan cada mes: \n",
            " 20BA941F62CC07F1FA3EF3E122B1E9B2\n",
            "/// --------------------------------------------------------------------- ///\n",
            "El archivo new_trip_data_9.csv tiene 13437 taxis diferentes.\n",
            "top 10 de taxis con viajes largos:\n",
            "20BA941F62CC07F1FA3EF3E122B1E9B2    2002\n",
            "2905ABD21DF99EA5B9741EA063266632    1944\n",
            "19E063791B0DF5A558B8488180DDAB67    1872\n",
            "21B98CAC5B31414B9446D381D38EEC7F    1862\n",
            "7417B824E9E41523D455BEAC98738B7D    1862\n",
            "5466D714601371299033C01FB08BB93B    1860\n",
            "FE4C521F3C1AC6F2598DEF00DDD43029    1840\n",
            "171FD91CBF0D6FABF499A9452A4950D5    1823\n",
            "9E3CE7CD29323064D241163BF8DCB807    1792\n",
            "14581655B9201FAB51523708396522E5    1783\n",
            "Name: medallion, dtype: int64\n",
            "\n",
            "Taxi que mas viajes realizan cada mes: \n",
            " 20BA941F62CC07F1FA3EF3E122B1E9B2\n",
            "/// --------------------------------------------------------------------- ///\n",
            "El archivo new_trip_data_10.csv tiene 13448 taxis diferentes.\n",
            "top 10 de taxis con viajes largos:\n",
            "20BA941F62CC07F1FA3EF3E122B1E9B2    2123\n",
            "FE4C521F3C1AC6F2598DEF00DDD43029    2052\n",
            "19E063791B0DF5A558B8488180DDAB67    2036\n",
            "CEBF1A972D6225F3E60B0C72C71B948F    2015\n",
            "DACFA6EF35923081481A22BE96339B6E    1999\n",
            "723B5809862054401FA26A9219A45FC5    1933\n",
            "2905ABD21DF99EA5B9741EA063266632    1919\n",
            "5B094A6DC92FEE41106DE354E83BDD7C    1907\n",
            "0076C8327A95E988E721AC33B0FA9D67    1904\n",
            "6403BF98E4618E21C795C3B45A636D77    1900\n",
            "Name: medallion, dtype: int64\n",
            "\n",
            "Taxi que mas viajes realizan cada mes: \n",
            " 20BA941F62CC07F1FA3EF3E122B1E9B2\n",
            "/// --------------------------------------------------------------------- ///\n",
            "El archivo new_trip_data_11.csv tiene 13424 taxis diferentes.\n",
            "top 10 de taxis con viajes largos:\n",
            "20BA941F62CC07F1FA3EF3E122B1E9B2    1949\n",
            "19E063791B0DF5A558B8488180DDAB67    1936\n",
            "DACFA6EF35923081481A22BE96339B6E    1921\n",
            "CEBF1A972D6225F3E60B0C72C71B948F    1905\n",
            "2905ABD21DF99EA5B9741EA063266632    1892\n",
            "5E2AA1E5BE5FE08B4FFD43572BCD5B1D    1885\n",
            "FE4C521F3C1AC6F2598DEF00DDD43029    1841\n",
            "605B942DC04E8C4DE35902374C7C2B4B    1839\n",
            "1FFE6E69C0B4762235E9885B7FB0749C    1831\n",
            "63F59698DEFC0A23567762261610FF01    1826\n",
            "Name: medallion, dtype: int64\n",
            "\n",
            "Taxi que mas viajes realizan cada mes: \n",
            " 20BA941F62CC07F1FA3EF3E122B1E9B2\n",
            "/// --------------------------------------------------------------------- ///\n",
            "El archivo new_trip_data_12.csv tiene 13460 taxis diferentes.\n",
            "top 10 de taxis con viajes largos:\n",
            "F3E844649503D2A5A44DD729348E7336    1893\n",
            "5E2AA1E5BE5FE08B4FFD43572BCD5B1D    1848\n",
            "38114212AD7C2127DE737863C465656D    1838\n",
            "1FFE6E69C0B4762235E9885B7FB0749C    1815\n",
            "36EDC01D57A6489E2DEE50734ECB327D    1793\n",
            "B6585890F68EE02702F32DECDEABC2A8    1787\n",
            "8E64A30514DAC9AB727CE9FDBC28666F    1787\n",
            "5F0ABF86E1E40CB35F05516B07D93A14    1783\n",
            "A994267F9554B8FE7BD2971162B85993    1776\n",
            "6672BB427685BB03CA8699CFC17D656A    1768\n",
            "Name: medallion, dtype: int64\n",
            "\n",
            "Taxi que mas viajes realizan cada mes: \n",
            " F3E844649503D2A5A44DD729348E7336\n",
            "/// --------------------------------------------------------------------- ///\n",
            "7E1346F23960CC18D7D129FA28B63A75\n",
            "0C9C589C0AD57ECCB633CB90A33DC37A\n",
            "19E063791B0DF5A558B8488180DDAB67\n",
            "19E063791B0DF5A558B8488180DDAB67\n",
            "20BA941F62CC07F1FA3EF3E122B1E9B2\n",
            "A4FC84D2662D988828DBD26B0948A413\n",
            "20BA941F62CC07F1FA3EF3E122B1E9B2\n",
            "20BA941F62CC07F1FA3EF3E122B1E9B2\n",
            "20BA941F62CC07F1FA3EF3E122B1E9B2\n",
            "20BA941F62CC07F1FA3EF3E122B1E9B2\n",
            "20BA941F62CC07F1FA3EF3E122B1E9B2\n",
            "F3E844649503D2A5A44DD729348E7336\n"
          ],
          "name": "stdout"
        }
      ]
    },
    {
      "cell_type": "markdown",
      "metadata": {
        "id": "TQMetKkWHDsT",
        "colab_type": "text"
      },
      "source": [
        "### Punto 9"
      ]
    },
    {
      "cell_type": "markdown",
      "metadata": {
        "id": "d3tqRJHHIcys",
        "colab_type": "text"
      },
      "source": [
        "#### Hacer una grafica temporal del numero total de pasajeros agregados por dias de la semana y despues por horas del dia. \n",
        "\n",
        "Sugerencia: agregar por el correspondiente periodo temporal y graficar. Que pueden observar de las graficas?"
      ]
    },
    {
      "cell_type": "code",
      "metadata": {
        "id": "5ujSj0aySRQ_",
        "colab_type": "code",
        "colab": {}
      },
      "source": [
        "import matplotlib.pyplot as plt"
      ],
      "execution_count": 0,
      "outputs": []
    },
    {
      "cell_type": "code",
      "metadata": {
        "id": "yMJ2gj9ScK0_",
        "colab_type": "code",
        "colab": {}
      },
      "source": [
        "nombre = 'new_trip_data_{}.csv'\n",
        "files= [nombre.format(i) for i in range(1, 13)]"
      ],
      "execution_count": 0,
      "outputs": []
    },
    {
      "cell_type": "code",
      "metadata": {
        "id": "5IeBd53fhtpG",
        "colab_type": "code",
        "colab": {
          "base_uri": "https://localhost:8080/",
          "height": 295
        },
        "outputId": "7c93fbfe-1f5f-4aff-b4b4-0d209039d27a"
      },
      "source": [
        "for file in files:\n",
        "  df = dd.read_csv(file, usecols=[\"passenger_count\", \"dropoff_datetime\"])\n",
        "  df[\"dropoff_datetime\"] = dd.to_datetime(df[\"dropoff_datetime\"])\n",
        "  df[\"dia\"] = df[\"dropoff_datetime\"].dt.weekday\n",
        "  dia = df.groupby(\"dia\")\n",
        "  sdia = dia[\"passenger_count\"].sum()\n",
        "  plt.plot(sdia.compute(), label= file)\n",
        "  df =\"\"\n",
        "  dia=\"\"\n",
        "  sdia=\"\"\n",
        "plt.title(\"Numeros de pasajeros por dia de la semana\")\n",
        "plt.ylabel(\"No. de pasajeros\")\n",
        "plt.xlabel(\"Dias de la semana\")\n",
        "# la siguiente funcion es aportacion de Daniel Hdz.\n",
        "plt.legend(title=\"archivos por mes\", loc='center left', bbox_to_anchor=(1, 0.5))\n",
        "plt.show()"
      ],
      "execution_count": 55,
      "outputs": [
        {
          "output_type": "display_data",
          "data": {
            "image/png": "[encoded data removed]",
            "text/plain": [
              "<Figure size 432x288 with 1 Axes>"
            ]
          },
          "metadata": {
            "tags": []
          }
        }
      ]
    },
    {
      "cell_type": "code",
      "metadata": {
        "id": "epJ01YrQjAe_",
        "colab_type": "code",
        "colab": {
          "base_uri": "https://localhost:8080/",
          "height": 295
        },
        "outputId": "040b382f-c2a2-4158-b96f-258cd6ddd30a"
      },
      "source": [
        "for file in files:\n",
        "  df = dd.read_csv(file, usecols= [\"passenger_count\", \"dropoff_datetime\"])\n",
        "  df[\"dropoff_datetime\"] = dd.to_datetime(df[\"dropoff_datetime\"])\n",
        "  df[\"hora\"] = df[\"dropoff_datetime\"].dt.hour\n",
        "  hora = df.groupby(\"hora\")\n",
        "  shora = hora[\"passenger_count\"].sum()\n",
        "  plt.plot(shora.compute(), label= file)\n",
        "  df =\"\"\n",
        "  dia=\"\"\n",
        "  sdia=\"\"\n",
        "plt.title(\"Numeros de pasajeros por horas del dia\")\n",
        "plt.ylabel(\"No. de pasajeros\")\n",
        "plt.xlabel(\"Horas del dia\")\n",
        "# la siguiente funcion es aportacion de Daniel Hdz.\n",
        "plt.legend(title=\"archivos por mes\", loc='center left', bbox_to_anchor=(1, 0.5))\n",
        "plt.show()"
      ],
      "execution_count": 56,
      "outputs": [
        {
          "output_type": "display_data",
          "data": {
            "image/png": "[encoded data removed]",
            "text/plain": [
              "<Figure size 432x288 with 1 Axes>"
            ]
          },
          "metadata": {
            "tags": []
          }
        }
      ]
    },
    {
      "cell_type": "markdown",
      "metadata": {
        "id": "lnr6MAQBxvo8",
        "colab_type": "text"
      },
      "source": [
        "### Punto 10\n",
        "- Elegir el vehiculo con mas viajes en cada mes y graficar en un mapa los sitios donde se suben pasajeros agrupados por:\n",
        "\n",
        "- dia de la semana (un color distinto para cada dia)\n",
        "\n",
        "- hora del dia (un color distinto para cada intervalo de cuatro horas,00:00 - 03:59, 04:00--07:59, 08:00-11:59, etc.)"
      ]
    },
    {
      "cell_type": "code",
      "metadata": {
        "id": "Nt94l5VQxvRE",
        "colab_type": "code",
        "colab": {}
      },
      "source": [
        "colores = [\"red\", \"green\", \"blue\", \"gray\", \"pink\", \"orange\"]\n",
        "dias = [\"Lunes\", \"Martes\", \"Miercoles\", \"jueves\", \"viernes\",\"Sabado\", \"Domingo\"]"
      ],
      "execution_count": 0,
      "outputs": []
    },
    {
      "cell_type": "code",
      "metadata": {
        "id": "ik7ScfOT0Jwj",
        "colab_type": "code",
        "colab": {}
      },
      "source": [
        "!pip install pyproj"
      ],
      "execution_count": 0,
      "outputs": []
    },
    {
      "cell_type": "code",
      "metadata": {
        "id": "tsRpQv5Ay8-J",
        "colab_type": "code",
        "colab": {}
      },
      "source": [
        "import pyproj\n",
        "from pyproj import Proj, transform\n",
        "from bokeh.models import BoxZoomTool\n",
        "from bokeh.plotting import figure, output_notebook, show\n",
        "from bokeh.tile_providers import STAMEN_TERRAIN"
      ],
      "execution_count": 0,
      "outputs": []
    },
    {
      "cell_type": "code",
      "metadata": {
        "id": "RNAbRDTEkxQk",
        "colab_type": "code",
        "colab": {}
      },
      "source": [
        "transformacion = lambda x, y: pyproj.transform(Proj(init='epsg:4326'), Proj(init='epsg:3857'), x, y)"
      ],
      "execution_count": 0,
      "outputs": []
    },
    {
      "cell_type": "code",
      "metadata": {
        "id": "6Eqilmldu0rN",
        "colab_type": "code",
        "colab": {}
      },
      "source": [
        "## ESTA CELDA DE CODIGO NOS LA PROPORCIONO EL DR. HORACIO EN LA CLASE 6\n",
        "NYC = x_range, y_range = ((-8242000,-8210000), (4965000,4990000))\n",
        "\n",
        "plot_width  = int(750)\n",
        "plot_height = int(plot_width//1.2)\n",
        "\n",
        "def base_plot(tools='pan,wheel_zoom,reset',plot_width=plot_width, plot_height=plot_height, **plot_args):\n",
        "    p = figure(tools=tools, plot_width=plot_width, plot_height=plot_height,\n",
        "        x_range=x_range, y_range=y_range, outline_line_color=None,\n",
        "        min_border=0, min_border_left=0, min_border_right=0,\n",
        "        min_border_top=0, min_border_bottom=0, **plot_args)\n",
        "\n",
        "    p.axis.visible = False\n",
        "    p.xgrid.grid_line_color = None\n",
        "    p.ygrid.grid_line_color = None\n",
        "\n",
        "    p.add_tools(BoxZoomTool(match_aspect=True))\n",
        "\n",
        "    return p"
      ],
      "execution_count": 0,
      "outputs": []
    },
    {
      "cell_type": "code",
      "metadata": {
        "id": "Bb4Uym2y1JR2",
        "colab_type": "code",
        "colab": {}
      },
      "source": [
        "output_notebook()\n",
        "p = base_plot()\n",
        "p.add_tile(STAMEN_TERRAIN)\n",
        "df = dd.read_csv('new_trip_data_*.csv', usecols=[\"medallion\", \"pickup_datetime\", \"pickup_longitude\", \"pickup_latitude\"])\n",
        "count = 0\n",
        "for taxi in bestaxis:\n",
        "  count += 1\n",
        "  df[\"pickup_datetime\"] = dd.to_datetime(df[\"pickup_datetime\"])\n",
        "  df[\"mes\"] = df[\"pickup_datetime\"].dt.month\n",
        "  maruchan = df.groupby(\"mes\")\n",
        "  maruchan = maruchan[maruchan[\"mes\"] == count] #\n",
        "  maruchan = maruchan[maruchan[\"medallion\"] = taxi]\n",
        "  maruchan[\"pickup_datetime\"] = dd.to_datetime(maruchan[\"pickup_datetime\"])\n",
        "  maruchan[\"dia\"] = maruchan[\"pickup_datetime\"].dt.dayofweek\n",
        "  maruchan = maruchan.compute()\n",
        "  maruchan[\"pickup_longitude\"], maruchan[\"pickup_latitude\"]= maruchan.apply(transformacion(maruchan[\"pickup_longitude\"], maruchan[\"pickup_latitude\"]), axis=1)\n",
        "  dia = maruchan.groupby(\"dia\")\n",
        "  for i in range(0,7):\n",
        "    maruchan = dia.get_group(i).sample(n=len(dia.get_group(i)))\n",
        "    p.circle(x=maruchan[\"pickup_longitude\"], y=maruchan[\"pickup_latitude\"], legend=dias[i], fill_color=colores[i], line_color=None)\n",
        "show(p)"
      ],
      "execution_count": 0,
      "outputs": []
    },
    {
      "cell_type": "code",
      "metadata": {
        "id": "xR8EcfSB3Sh3",
        "colab_type": "code",
        "colab": {}
      },
      "source": [
        ""
      ],
      "execution_count": 0,
      "outputs": []
    },
    {
      "cell_type": "code",
      "metadata": {
        "id": "7HOGUuhI3SX9",
        "colab_type": "code",
        "colab": {}
      },
      "source": [
        ""
      ],
      "execution_count": 0,
      "outputs": []
    },
    {
      "cell_type": "code",
      "metadata": {
        "id": "-pBWvXO13SJf",
        "colab_type": "code",
        "colab": {}
      },
      "source": [
        ""
      ],
      "execution_count": 0,
      "outputs": []
    },
    {
      "cell_type": "code",
      "metadata": {
        "id": "XO9utP7R3R6q",
        "colab_type": "code",
        "colab": {}
      },
      "source": [
        ""
      ],
      "execution_count": 0,
      "outputs": []
    },
    {
      "cell_type": "code",
      "metadata": {
        "id": "U4HfdwInYUn_",
        "colab_type": "code",
        "colab": {}
      },
      "source": [
        "df[\"longitud\"], df[\"latitud\"] = transformacion(df[\"longitud\"], df[\"latitud\"])"
      ],
      "execution_count": 0,
      "outputs": []
    },
    {
      "cell_type": "code",
      "metadata": {
        "id": "Wq3yAMCiuUB1",
        "colab_type": "code",
        "colab": {}
      },
      "source": [
        "asr = 0\n",
        "adr= 0\n",
        "asr, adr = transformacion(-45.263923, 15.235689)"
      ],
      "execution_count": 0,
      "outputs": []
    },
    {
      "cell_type": "code",
      "metadata": {
        "id": "--pGMbs0un5w",
        "colab_type": "code",
        "colab": {
          "base_uri": "https://localhost:8080/",
          "height": 34
        },
        "outputId": "118a288d-42f9-4019-daaf-da2792bad1d3"
      },
      "source": [
        "asr, adr"
      ],
      "execution_count": 64,
      "outputs": [
        {
          "output_type": "execute_result",
          "data": {
            "text/plain": [
              "(-5038756.859665943, 1716377.5096090997)"
            ]
          },
          "metadata": {
            "tags": []
          },
          "execution_count": 64
        }
      ]
    },
    {
      "cell_type": "code",
      "metadata": {
        "id": "pinEnHnau9QM",
        "colab_type": "code",
        "colab": {
          "base_uri": "https://localhost:8080/",
          "height": 34
        },
        "outputId": "0d67b7d0-b09b-46b5-d617-5979f3b4b684"
      },
      "source": [
        "asr\n"
      ],
      "execution_count": 65,
      "outputs": [
        {
          "output_type": "execute_result",
          "data": {
            "text/plain": [
              "-5038756.859665943"
            ]
          },
          "metadata": {
            "tags": []
          },
          "execution_count": 65
        }
      ]
    },
    {
      "cell_type": "code",
      "metadata": {
        "id": "HxH9ztX8vcGg",
        "colab_type": "code",
        "colab": {
          "base_uri": "https://localhost:8080/",
          "height": 221
        },
        "outputId": "a1f15402-9270-4671-f4f2-acd95f9374dc"
      },
      "source": [
        "bestaxis"
      ],
      "execution_count": 70,
      "outputs": [
        {
          "output_type": "execute_result",
          "data": {
            "text/plain": [
              "['7E1346F23960CC18D7D129FA28B63A75',\n",
              " '0C9C589C0AD57ECCB633CB90A33DC37A',\n",
              " '19E063791B0DF5A558B8488180DDAB67',\n",
              " '19E063791B0DF5A558B8488180DDAB67',\n",
              " '20BA941F62CC07F1FA3EF3E122B1E9B2',\n",
              " 'A4FC84D2662D988828DBD26B0948A413',\n",
              " '20BA941F62CC07F1FA3EF3E122B1E9B2',\n",
              " '20BA941F62CC07F1FA3EF3E122B1E9B2',\n",
              " '20BA941F62CC07F1FA3EF3E122B1E9B2',\n",
              " '20BA941F62CC07F1FA3EF3E122B1E9B2',\n",
              " '20BA941F62CC07F1FA3EF3E122B1E9B2',\n",
              " 'F3E844649503D2A5A44DD729348E7336']"
            ]
          },
          "metadata": {
            "tags": []
          },
          "execution_count": 70
        }
      ]
    },
    {
      "cell_type": "code",
      "metadata": {
        "id": "BgAG7l5nyIA3",
        "colab_type": "code",
        "colab": {}
      },
      "source": [
        ""
      ],
      "execution_count": 0,
      "outputs": []
    }
  ]
}