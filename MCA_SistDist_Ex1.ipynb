{
  "nbformat": 4,
  "nbformat_minor": 0,
  "metadata": {
    "colab": {
      "name": "MCA_SistDist_Ex1.ipynb",
      "version": "0.3.2",
      "provenance": [],
      "collapsed_sections": [],
      "include_colab_link": true
    },
    "kernelspec": {
      "name": "python3",
      "display_name": "Python 3"
    }
  },
  "cells": [
    {
      "cell_type": "markdown",
      "metadata": {
        "id": "view-in-github",
        "colab_type": "text"
      },
      "source": [
        "<a href=\"https://colab.research.google.com/github/htapiagroup/sistemas-distribuidos-evaluacion-intersemestral-asosam91/blob/master/MCA_SistDist_Ex1.ipynb\" target=\"_parent\"><img src=\"https://colab.research.google.com/assets/colab-badge.svg\" alt=\"Open In Colab\"/></a>"
      ]
    },
    {
      "cell_type": "markdown",
      "metadata": {
        "id": "2ARMWPhsSbzB",
        "colab_type": "text"
      },
      "source": [
        "# Adrián Sosa Medellín\n",
        "## MCA 2018-2020"
      ]
    },
    {
      "cell_type": "markdown",
      "metadata": {
        "id": "DHGVIoS6Y8-g",
        "colab_type": "text"
      },
      "source": [
        "### Configuracion inicial"
      ]
    },
    {
      "cell_type": "code",
      "metadata": {
        "id": "fyKg8UyMQP-w",
        "colab_type": "code",
        "colab": {}
      },
      "source": [
        "import os, time, psutil, gc\n",
        "import pandas as pd \n",
        "from google.colab import drive"
      ],
      "execution_count": 0,
      "outputs": []
    },
    {
      "cell_type": "code",
      "metadata": {
        "id": "eeVSseLJWYDJ",
        "colab_type": "code",
        "outputId": "1aa9aade-3e3c-40fe-c2a1-575d5b5c5ff5",
        "colab": {
          "base_uri": "https://localhost:8080/",
          "height": 55
        }
      },
      "source": [
        "drive.mount('/content/gdrive');"
      ],
      "execution_count": 2,
      "outputs": [
        {
          "output_type": "stream",
          "text": [
            "Drive already mounted at /content/gdrive; to attempt to forcibly remount, call drive.mount(\"/content/gdrive\", force_remount=True).\n"
          ],
          "name": "stdout"
        }
      ]
    },
    {
      "cell_type": "code",
      "metadata": {
        "id": "wiCFG7K2lH72",
        "colab_type": "code",
        "outputId": "4cce61e2-2cd6-42c6-c405-1086d056b392",
        "colab": {
          "base_uri": "https://localhost:8080/",
          "height": 35
        }
      },
      "source": [
        "cd gdrive/My\\ Drive/Colab\\ Notebooks/Data"
      ],
      "execution_count": 3,
      "outputs": [
        {
          "output_type": "stream",
          "text": [
            "/content/gdrive/My Drive/Colab Notebooks/Data\n"
          ],
          "name": "stdout"
        }
      ]
    },
    {
      "cell_type": "code",
      "metadata": {
        "id": "SUI8iW0vaOrX",
        "colab_type": "code",
        "colab": {}
      },
      "source": [
        "gc.enable()"
      ],
      "execution_count": 0,
      "outputs": []
    },
    {
      "cell_type": "markdown",
      "metadata": {
        "id": "WaKkEkDGs3NY",
        "colab_type": "text"
      },
      "source": [
        "### definicion de funciones"
      ]
    },
    {
      "cell_type": "code",
      "metadata": {
        "id": "IKkyePW_s9Pn",
        "colab_type": "code",
        "colab": {}
      },
      "source": [
        "# esta funcion fue proporcionada por el Dr. Horacio Tapia\n",
        "def memoryPrint():\n",
        "  '''Regresa al memoria usada por un proceso en python'''\n",
        "  mem = psutil.Process(os.getpid()).memory_info().rss\n",
        "  return (mem/1024**2)"
      ],
      "execution_count": 0,
      "outputs": []
    },
    {
      "cell_type": "code",
      "metadata": {
        "id": "wBb1eg8TsZzY",
        "colab_type": "code",
        "colab": {}
      },
      "source": [
        "class data():\n",
        "  def __init__(self):\n",
        "    self.name = \"\"\n",
        "    self.rows = 0\n",
        "    self.cols = 0\n",
        "    self.readtime = 0\n",
        "    self.memoryprint = 0 \n",
        "    self.memory = 0\n",
        "    self.empyreg = 0\n",
        "    self.newcols = 0\n",
        "    self.newrows = 0\n",
        "    self.timemean = 0"
      ],
      "execution_count": 0,
      "outputs": []
    },
    {
      "cell_type": "markdown",
      "metadata": {
        "id": "yz_QVJkJZDD-",
        "colab_type": "text"
      },
      "source": [
        "### descarga y descompresion de la 'Base de datos'"
      ]
    },
    {
      "cell_type": "code",
      "metadata": {
        "id": "1r474Mop2Jjx",
        "colab_type": "code",
        "colab": {}
      },
      "source": [
        "nombre = 'trip_data_{:d}.csv'\n",
        "plantilla = [nombre.format(i) for i in range(1, 13)]"
      ],
      "execution_count": 0,
      "outputs": []
    },
    {
      "cell_type": "code",
      "metadata": {
        "id": "tg2mEWkdWv3H",
        "colab_type": "code",
        "colab": {}
      },
      "source": [
        "# if not os.path.exists('trip_data.7z'):\n",
        "#   comando = \"wget https://archive.org/download/nycTaxiTripData2013/trip_data.7z\"\n",
        "#   os.system(comando)\n",
        "\n",
        "# !7z x trip_data.7z"
      ],
      "execution_count": 0,
      "outputs": []
    },
    {
      "cell_type": "code",
      "metadata": {
        "id": "2eG3FTSe3ryz",
        "colab_type": "code",
        "colab": {}
      },
      "source": [
        "resultados = []"
      ],
      "execution_count": 0,
      "outputs": []
    },
    {
      "cell_type": "code",
      "metadata": {
        "id": "o7ohHGgr2wB4",
        "colab_type": "code",
        "colab": {}
      },
      "source": [
        "# no ejecutar esta celda a menos que sea necesario\n",
        "# for i in plantilla:\n",
        "#   comando = \"rm new_\"+ i\n",
        "#   os.system(comando)"
      ],
      "execution_count": 0,
      "outputs": []
    },
    {
      "cell_type": "code",
      "metadata": {
        "id": "C0_e_2Xc37c1",
        "colab_type": "code",
        "colab": {}
      },
      "source": [
        "for archivo in plantilla:\n",
        "  nombre = \"new_\" + archivo\n",
        "  if not os.path.exists(nombre):\n",
        "    dat = data()\n",
        "    m1 = memoryPrint()\n",
        "    t1 = time.time()\n",
        "    try:\n",
        "      df = pd.read_csv(archivo, usecols=[\"medallion\",  \"pickup_datetime\", \"dropoff_datetime\", \"passenger_count\", \"trip_time_in_secs\", \"trip_distance\", \"pickup_longitude\", \"pickup_latitude\", \"dropoff_longitude\", \"dropoff_latitude\"])\n",
        "    except :\n",
        "      pass\n",
        "    try:\n",
        "      df = pd.read_csv(archivo, usecols=[\"medallion\",  \" pickup_datetime\", \" dropoff_datetime\", \" passenger_count\", \" trip_time_in_secs\", \" trip_distance\", \" pickup_longitude\", \" pickup_latitude\", \" dropoff_longitude\", \" dropoff_latitude\"])\n",
        "    except :\n",
        "      pass\n",
        "        \n",
        "    t2 = time.time()\n",
        "    m2 = memoryPrint()\n",
        "    dat.name = archivo\n",
        "    dat.readtime = (t2 - t1)*1000\n",
        "    dat.memoryprint = m2 - m1\n",
        "    dat.memory = df.memory_usage().sum()\n",
        "    shapes = df.shape\n",
        "    dat.rows = shapes[0]\n",
        "    dat.cols = shapes[1]\n",
        "    \n",
        "    df = df.rename(columns=lambda x: x.strip())\n",
        "    dat.empyreg = df.isna().sum()\n",
        "    df.dropna()\n",
        "    shapes = df.shape\n",
        "    dat.newrows = shapes[0]\n",
        "    dat.newcols = shapes[1]\n",
        "    t1 = time.time()\n",
        "    mean = df[\"trip_distance\"].mean()\n",
        "    t2 = time.time()\n",
        "    dat.timemean = (t2 - t1)*1000\n",
        "    df.to_csv(nombre)\n",
        "    resultados.append(dat)\n",
        "    # comando = \"rm \" + archivo\n",
        "    # os.system(comando)\n",
        "    df = ''\n",
        "    dat = ''"
      ],
      "execution_count": 0,
      "outputs": []
    },
    {
      "cell_type": "code",
      "metadata": {
        "id": "DlG0zxkhdDYk",
        "colab_type": "code",
        "outputId": "ab49a12f-7199-4464-ea86-5e1056ff073c",
        "colab": {
          "base_uri": "https://localhost:8080/",
          "height": 1000
        }
      },
      "source": [
        "# muestro el resultado de las operaciones\n",
        "print(\"Resultados de las operaciones con PANDAS\")\n",
        "\n",
        "for i in range(len(resultados)):\n",
        "  print(\"\\n\")\n",
        "  print(\"Archivo analizado: {}\".format(resultados[i].name))\n",
        "  print(\"El archivo tiene {} columnas y {} renglones\".format(resultados[i].cols, resultados[i].rows))\n",
        "  print(\"Numero de registros vacios:\\n{}\".format(resultados[i].empyreg))\n",
        "  print(\"--- se crea un nuevo conjunto de datos con los errores eliminados si los hay. ---\")\n",
        "  print(\"El nuevo conjunto de datos tiene {} columnas y {} renglones\".format(resultados[i].newcols, resultados[i].newrows))\n",
        "  print(\"Tiempo de lectura del archivo {}: {} ms\".format(resultados[i].name, resultados[i].readtime))\n",
        "  print(\"Huella de memoria del archivo: {:.2f} Mb\".format(resultados[i].memoryprint))\n",
        "  print(\"Memoria del sistema usada para crear el archivo: {:.2f} Mb\".format((resultados[i].memory)/(1024**2)))\n",
        "  print(\"Tiempo que tarda pandas en obtener el promedio de Trip_distance: {} ms\".format(resultados[i].timemean))\n",
        "  print(\"-----------------------------------------------------------------------------------------\")\n",
        "  "
      ],
      "execution_count": 0,
      "outputs": [
        {
          "output_type": "stream",
          "text": [
            "Resultados de las operaciones con PANDAS\n",
            "\n",
            "\n",
            "Archivo analizado: trip_data_1.csv\n",
            "El archivo tiene 10 columnas y 14776615 renglones\n",
            "Numero de registros vacios:\n",
            "medallion             0\n",
            "pickup_datetime       0\n",
            "dropoff_datetime      0\n",
            "passenger_count       0\n",
            "trip_time_in_secs     0\n",
            "trip_distance         0\n",
            "pickup_longitude      0\n",
            "pickup_latitude       0\n",
            "dropoff_longitude    86\n",
            "dropoff_latitude     86\n",
            "dtype: int64\n",
            "--- se crea un nuevo conjunto de datos con los errores eliminados si los hay. ---\n",
            "El nuevo conjunto de datos tiene 10 columnas y 14776615 renglones\n",
            "Tiempo de lectura del archivo trip_data_1.csv: 64223.88029098511 ms\n",
            "Huella de memoria del archivo: 3195.27 Mb\n",
            "Memoria del sistema usada para crear el archivo: 1127.37 Mb\n",
            "Tiempo que tarda pandas en obtener el promedio de Trip_distance: 28.361082077026367 ms\n",
            "-----------------------------------------------------------------------------------------\n",
            "\n",
            "\n",
            "Archivo analizado: trip_data_2.csv\n",
            "El archivo tiene 10 columnas y 13990176 renglones\n",
            "Numero de registros vacios:\n",
            "medallion              0\n",
            "pickup_datetime        0\n",
            "dropoff_datetime       0\n",
            "passenger_count        0\n",
            "trip_time_in_secs      0\n",
            "trip_distance          0\n",
            "pickup_longitude       0\n",
            "pickup_latitude        0\n",
            "dropoff_longitude    113\n",
            "dropoff_latitude     113\n",
            "dtype: int64\n",
            "--- se crea un nuevo conjunto de datos con los errores eliminados si los hay. ---\n",
            "El nuevo conjunto de datos tiene 10 columnas y 13990176 renglones\n",
            "Tiempo de lectura del archivo trip_data_2.csv: 88298.45190048218 ms\n",
            "Huella de memoria del archivo: 770.68 Mb\n",
            "Memoria del sistema usada para crear el archivo: 1067.37 Mb\n",
            "Tiempo que tarda pandas en obtener el promedio de Trip_distance: 26.03316307067871 ms\n",
            "-----------------------------------------------------------------------------------------\n",
            "\n",
            "\n",
            "Archivo analizado: trip_data_3.csv\n",
            "El archivo tiene 10 columnas y 15749228 renglones\n",
            "Numero de registros vacios:\n",
            "medallion              0\n",
            "pickup_datetime        0\n",
            "dropoff_datetime       0\n",
            "passenger_count        0\n",
            "trip_time_in_secs      0\n",
            "trip_distance          0\n",
            "pickup_longitude       0\n",
            "pickup_latitude        0\n",
            "dropoff_longitude    293\n",
            "dropoff_latitude     293\n",
            "dtype: int64\n",
            "--- se crea un nuevo conjunto de datos con los errores eliminados si los hay. ---\n",
            "El nuevo conjunto de datos tiene 10 columnas y 15749228 renglones\n",
            "Tiempo de lectura del archivo trip_data_3.csv: 86706.65168762207 ms\n",
            "Huella de memoria del archivo: 870.81 Mb\n",
            "Memoria del sistema usada para crear el archivo: 1201.57 Mb\n",
            "Tiempo que tarda pandas en obtener el promedio de Trip_distance: 29.651880264282227 ms\n",
            "-----------------------------------------------------------------------------------------\n",
            "\n",
            "\n",
            "Archivo analizado: trip_data_4.csv\n",
            "El archivo tiene 10 columnas y 15100468 renglones\n",
            "Numero de registros vacios:\n",
            "medallion              0\n",
            "pickup_datetime        0\n",
            "dropoff_datetime       0\n",
            "passenger_count        0\n",
            "trip_time_in_secs      0\n",
            "trip_distance          0\n",
            "pickup_longitude       0\n",
            "pickup_latitude        0\n",
            "dropoff_longitude    146\n",
            "dropoff_latitude     146\n",
            "dtype: int64\n",
            "--- se crea un nuevo conjunto de datos con los errores eliminados si los hay. ---\n",
            "El nuevo conjunto de datos tiene 10 columnas y 15100468 renglones\n",
            "Tiempo de lectura del archivo trip_data_4.csv: 87126.75142288208 ms\n",
            "Huella de memoria del archivo: 490.72 Mb\n",
            "Memoria del sistema usada para crear el archivo: 1152.07 Mb\n",
            "Tiempo que tarda pandas en obtener el promedio de Trip_distance: 28.009653091430664 ms\n",
            "-----------------------------------------------------------------------------------------\n",
            "\n",
            "\n",
            "Archivo analizado: trip_data_5.csv\n",
            "El archivo tiene 10 columnas y 15285049 renglones\n",
            "Numero de registros vacios:\n",
            "medallion             0\n",
            "pickup_datetime       0\n",
            "dropoff_datetime      0\n",
            "passenger_count       0\n",
            "trip_time_in_secs     0\n",
            "trip_distance         0\n",
            "pickup_longitude      0\n",
            "pickup_latitude       0\n",
            "dropoff_longitude    39\n",
            "dropoff_latitude     39\n",
            "dtype: int64\n",
            "--- se crea un nuevo conjunto de datos con los errores eliminados si los hay. ---\n",
            "El nuevo conjunto de datos tiene 10 columnas y 15285049 renglones\n",
            "Tiempo de lectura del archivo trip_data_5.csv: 89591.02845191956 ms\n",
            "Huella de memoria del archivo: 609.85 Mb\n",
            "Memoria del sistema usada para crear el archivo: 1166.16 Mb\n",
            "Tiempo que tarda pandas en obtener el promedio de Trip_distance: 29.606342315673828 ms\n",
            "-----------------------------------------------------------------------------------------\n",
            "\n",
            "\n",
            "Archivo analizado: trip_data_6.csv\n",
            "El archivo tiene 10 columnas y 14385456 renglones\n",
            "Numero de registros vacios:\n",
            "medallion              0\n",
            "pickup_datetime        0\n",
            "dropoff_datetime       0\n",
            "passenger_count        0\n",
            "trip_time_in_secs      0\n",
            "trip_distance          0\n",
            "pickup_longitude       0\n",
            "pickup_latitude        0\n",
            "dropoff_longitude    338\n",
            "dropoff_latitude     338\n",
            "dtype: int64\n",
            "--- se crea un nuevo conjunto de datos con los errores eliminados si los hay. ---\n",
            "El nuevo conjunto de datos tiene 10 columnas y 14385456 renglones\n",
            "Tiempo de lectura del archivo trip_data_6.csv: 76411.705493927 ms\n",
            "Huella de memoria del archivo: -155.72 Mb\n",
            "Memoria del sistema usada para crear el archivo: 1097.52 Mb\n",
            "Tiempo que tarda pandas en obtener el promedio de Trip_distance: 27.21118927001953 ms\n",
            "-----------------------------------------------------------------------------------------\n",
            "\n",
            "\n",
            "Archivo analizado: trip_data_7.csv\n",
            "El archivo tiene 10 columnas y 13823840 renglones\n",
            "Numero de registros vacios:\n",
            "medallion              0\n",
            "pickup_datetime        0\n",
            "dropoff_datetime       0\n",
            "passenger_count        0\n",
            "trip_time_in_secs      0\n",
            "trip_distance          0\n",
            "pickup_longitude       0\n",
            "pickup_latitude        0\n",
            "dropoff_longitude    698\n",
            "dropoff_latitude     698\n",
            "dtype: int64\n",
            "--- se crea un nuevo conjunto de datos con los errores eliminados si los hay. ---\n",
            "El nuevo conjunto de datos tiene 10 columnas y 13823840 renglones\n",
            "Tiempo de lectura del archivo trip_data_7.csv: 76282.96422958374 ms\n",
            "Huella de memoria del archivo: 461.55 Mb\n",
            "Memoria del sistema usada para crear el archivo: 1054.68 Mb\n",
            "Tiempo que tarda pandas en obtener el promedio de Trip_distance: 25.722503662109375 ms\n",
            "-----------------------------------------------------------------------------------------\n",
            "\n",
            "\n",
            "Archivo analizado: trip_data_8.csv\n",
            "El archivo tiene 10 columnas y 12597109 renglones\n",
            "Numero de registros vacios:\n",
            "medallion             0\n",
            "pickup_datetime       0\n",
            "dropoff_datetime      0\n",
            "passenger_count       0\n",
            "trip_time_in_secs     0\n",
            "trip_distance         0\n",
            "pickup_longitude      0\n",
            "pickup_latitude       0\n",
            "dropoff_longitude    45\n",
            "dropoff_latitude     45\n",
            "dtype: int64\n",
            "--- se crea un nuevo conjunto de datos con los errores eliminados si los hay. ---\n",
            "El nuevo conjunto de datos tiene 10 columnas y 12597109 renglones\n",
            "Tiempo de lectura del archivo trip_data_8.csv: 66559.52978134155 ms\n",
            "Huella de memoria del archivo: -355.46 Mb\n",
            "Memoria del sistema usada para crear el archivo: 961.08 Mb\n",
            "Tiempo que tarda pandas en obtener el promedio de Trip_distance: 23.63419532775879 ms\n",
            "-----------------------------------------------------------------------------------------\n",
            "\n",
            "\n",
            "Archivo analizado: trip_data_9.csv\n",
            "El archivo tiene 10 columnas y 14107693 renglones\n",
            "Numero de registros vacios:\n",
            "medallion             0\n",
            "pickup_datetime       0\n",
            "dropoff_datetime      0\n",
            "passenger_count       0\n",
            "trip_time_in_secs     0\n",
            "trip_distance         0\n",
            "pickup_longitude      0\n",
            "pickup_latitude       0\n",
            "dropoff_longitude    78\n",
            "dropoff_latitude     78\n",
            "dtype: int64\n",
            "--- se crea un nuevo conjunto de datos con los errores eliminados si los hay. ---\n",
            "El nuevo conjunto de datos tiene 10 columnas y 14107693 renglones\n",
            "Tiempo de lectura del archivo trip_data_9.csv: 80678.98654937744 ms\n",
            "Huella de memoria del archivo: 734.21 Mb\n",
            "Memoria del sistema usada para crear el archivo: 1076.33 Mb\n",
            "Tiempo que tarda pandas en obtener el promedio de Trip_distance: 25.63166618347168 ms\n",
            "-----------------------------------------------------------------------------------------\n",
            "\n",
            "\n",
            "Archivo analizado: trip_data_10.csv\n",
            "El archivo tiene 10 columnas y 15004556 renglones\n",
            "Numero de registros vacios:\n",
            "medallion              0\n",
            "pickup_datetime        0\n",
            "dropoff_datetime       0\n",
            "passenger_count        0\n",
            "trip_time_in_secs      0\n",
            "trip_distance          0\n",
            "pickup_longitude       0\n",
            "pickup_latitude        0\n",
            "dropoff_longitude    736\n",
            "dropoff_latitude     736\n",
            "dtype: int64\n",
            "--- se crea un nuevo conjunto de datos con los errores eliminados si los hay. ---\n",
            "El nuevo conjunto de datos tiene 10 columnas y 15004556 renglones\n",
            "Tiempo de lectura del archivo trip_data_10.csv: 82603.16228866577 ms\n",
            "Huella de memoria del archivo: 1809.40 Mb\n",
            "Memoria del sistema usada para crear el archivo: 1144.76 Mb\n",
            "Tiempo que tarda pandas en obtener el promedio de Trip_distance: 28.256893157958984 ms\n",
            "-----------------------------------------------------------------------------------------\n",
            "\n",
            "\n",
            "Archivo analizado: trip_data_11.csv\n",
            "El archivo tiene 10 columnas y 14388451 renglones\n",
            "Numero de registros vacios:\n",
            "medallion              0\n",
            "pickup_datetime        0\n",
            "dropoff_datetime       0\n",
            "passenger_count        0\n",
            "trip_time_in_secs      0\n",
            "trip_distance          0\n",
            "pickup_longitude       0\n",
            "pickup_latitude        0\n",
            "dropoff_longitude    754\n",
            "dropoff_latitude     754\n",
            "dtype: int64\n",
            "--- se crea un nuevo conjunto de datos con los errores eliminados si los hay. ---\n",
            "El nuevo conjunto de datos tiene 10 columnas y 14388451 renglones\n",
            "Tiempo de lectura del archivo trip_data_11.csv: 76811.89918518066 ms\n",
            "Huella de memoria del archivo: 94.96 Mb\n",
            "Memoria del sistema usada para crear el archivo: 1097.75 Mb\n",
            "Tiempo que tarda pandas en obtener el promedio de Trip_distance: 27.56333351135254 ms\n",
            "-----------------------------------------------------------------------------------------\n",
            "\n",
            "\n",
            "Archivo analizado: trip_data_12.csv\n",
            "El archivo tiene 10 columnas y 13971118 renglones\n",
            "Numero de registros vacios:\n",
            "medallion              0\n",
            "pickup_datetime        0\n",
            "dropoff_datetime       0\n",
            "passenger_count        0\n",
            "trip_time_in_secs      0\n",
            "trip_distance          0\n",
            "pickup_longitude       0\n",
            "pickup_latitude        0\n",
            "dropoff_longitude    112\n",
            "dropoff_latitude     112\n",
            "dtype: int64\n",
            "--- se crea un nuevo conjunto de datos con los errores eliminados si los hay. ---\n",
            "El nuevo conjunto de datos tiene 10 columnas y 13971118 renglones\n",
            "Tiempo de lectura del archivo trip_data_12.csv: 77213.93513679504 ms\n",
            "Huella de memoria del archivo: 231.52 Mb\n",
            "Memoria del sistema usada para crear el archivo: 1065.91 Mb\n",
            "Tiempo que tarda pandas en obtener el promedio de Trip_distance: 26.200056076049805 ms\n",
            "-----------------------------------------------------------------------------------------\n"
          ],
          "name": "stdout"
        }
      ]
    },
    {
      "cell_type": "markdown",
      "metadata": {
        "id": "8_DvHfdPerpF",
        "colab_type": "text"
      },
      "source": [
        "## DASK"
      ]
    },
    {
      "cell_type": "code",
      "metadata": {
        "id": "HN5pnhE2wlR8",
        "colab_type": "code",
        "colab": {}
      },
      "source": [
        "import dask\n",
        "import dask.dataframe as dd"
      ],
      "execution_count": 0,
      "outputs": []
    },
    {
      "cell_type": "code",
      "metadata": {
        "id": "FwJrYDxyws5z",
        "colab_type": "code",
        "colab": {}
      },
      "source": [
        "df = dd.read_csv(\"new_trip_data_*.csv\", usecols= [\"trip_distance\",\"trip_time_in_secs\"])"
      ],
      "execution_count": 0,
      "outputs": []
    },
    {
      "cell_type": "code",
      "metadata": {
        "id": "9RG7OlJl2lbs",
        "colab_type": "code",
        "colab": {}
      },
      "source": [
        "promedio = df[\"trip_distance\"].mean()"
      ],
      "execution_count": 0,
      "outputs": []
    },
    {
      "cell_type": "code",
      "metadata": {
        "id": "et_-9HCgxMck",
        "colab_type": "code",
        "colab": {}
      },
      "source": [
        "t1 = time.time()\n",
        "pDist = promedio.compute()\n",
        "t2 = time.time()\n",
        "\n",
        "print(\"El tiempo que tarda DASK en calcular el promedio de trip_distance es: {:.2f} ms\".format((t2 - t1)*1000))"
      ],
      "execution_count": 0,
      "outputs": []
    },
    {
      "cell_type": "code",
      "metadata": {
        "id": "AiILcVWQ3bfc",
        "colab_type": "code",
        "colab": {}
      },
      "source": [
        "promedio = df[\"trip_time_in_secs\"].mean()"
      ],
      "execution_count": 0,
      "outputs": []
    },
    {
      "cell_type": "code",
      "metadata": {
        "id": "5noTXqEZ2v1m",
        "colab_type": "code",
        "colab": {}
      },
      "source": [
        "t1 = time.time()\n",
        "pTime = promedio.compute()\n",
        "t2 = time.time()\n",
        "\n",
        "print(\"El tiempo que tarda DASK en calcular el promedio de trip_time_in_secs es: {:.2f} ms\".format((t2 - t1)*1000))"
      ],
      "execution_count": 0,
      "outputs": []
    },
    {
      "cell_type": "code",
      "metadata": {
        "id": "ghkwwFUX3wJX",
        "colab_type": "code",
        "colab": {}
      },
      "source": [
        "df = dd.read_csv(\"new_trip_data_*.csv\", usecols= [\"pickup_datetime\", \"dropoff_datetime\", \"trip_time_in_secs\"])"
      ],
      "execution_count": 0,
      "outputs": []
    },
    {
      "cell_type": "code",
      "metadata": {
        "id": "fd8F9DnM3v2W",
        "colab_type": "code",
        "colab": {}
      },
      "source": [
        "df[\"pickup_datetime\"] = dd.to_datetime(df[\"pickup_datetime\"])\n",
        "df[\"dropoff_datetime\"] = dd.to_datetime(df[\"dropoff_datetime\"])\n",
        "df[\"duracion\"] = df[\"dropoff_datetime\"] - df[\"pickup_datetime\"]"
      ],
      "execution_count": 0,
      "outputs": []
    },
    {
      "cell_type": "code",
      "metadata": {
        "id": "bArRJQMG3vgf",
        "colab_type": "code",
        "colab": {}
      },
      "source": [
        "df[\"duracion\"] = df[\"duracion\"].dt.total_seconds()\n",
        "diferencia = df[(df[\"duracion\"] != df[\"trip_time_in_secs\"])]\n",
        "resultado = df.compute().shape[0] - diferencia.compute().shape[0]\n",
        "print(\"hay {} registros donde la duracion calculada y la registrada no coinciden.\".format(resultado))"
      ],
      "execution_count": 0,
      "outputs": []
    },
    {
      "cell_type": "code",
      "metadata": {
        "id": "bgIM3V6Heq9Y",
        "colab_type": "code",
        "colab": {}
      },
      "source": [
        "longtrip = df[df[\"duracion\"] > 1200]"
      ],
      "execution_count": 0,
      "outputs": []
    },
    {
      "cell_type": "code",
      "metadata": {
        "id": "mHET7Z4wLFRo",
        "colab_type": "code",
        "colab": {}
      },
      "source": [
        "topCab = dd.read_csv(\"new_trip_data_*.csv\", usecols= [\"medallion\", \"dropoff_datetime\", \"trip_time_in_secs\"])"
      ],
      "execution_count": 0,
      "outputs": []
    },
    {
      "cell_type": "code",
      "metadata": {
        "id": "XPToGu7UgZQL",
        "colab_type": "code",
        "colab": {}
      },
      "source": [
        ""
      ],
      "execution_count": 0,
      "outputs": []
    },
    {
      "cell_type": "code",
      "metadata": {
        "id": "KKISe6WHgqUF",
        "colab_type": "code",
        "colab": {}
      },
      "source": [
        ""
      ],
      "execution_count": 0,
      "outputs": []
    },
    {
      "cell_type": "code",
      "metadata": {
        "id": "5IeBd53fhtpG",
        "colab_type": "code",
        "colab": {}
      },
      "source": [
        ""
      ],
      "execution_count": 0,
      "outputs": []
    },
    {
      "cell_type": "code",
      "metadata": {
        "id": "JfkSUVVqiPw9",
        "colab_type": "code",
        "colab": {}
      },
      "source": [
        ""
      ],
      "execution_count": 0,
      "outputs": []
    },
    {
      "cell_type": "code",
      "metadata": {
        "id": "epJ01YrQjAe_",
        "colab_type": "code",
        "colab": {}
      },
      "source": [
        ""
      ],
      "execution_count": 0,
      "outputs": []
    },
    {
      "cell_type": "code",
      "metadata": {
        "id": "RNAbRDTEkxQk",
        "colab_type": "code",
        "colab": {}
      },
      "source": [
        " "
      ],
      "execution_count": 0,
      "outputs": []
    },
    {
      "cell_type": "code",
      "metadata": {
        "id": "U4HfdwInYUn_",
        "colab_type": "code",
        "colab": {}
      },
      "source": [
        ""
      ],
      "execution_count": 0,
      "outputs": []
    }
  ]
}